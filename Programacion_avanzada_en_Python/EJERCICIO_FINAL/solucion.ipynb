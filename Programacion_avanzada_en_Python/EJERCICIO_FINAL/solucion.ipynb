{
 "cells": [
  {
   "cell_type": "markdown",
   "id": "b7a0d9280703f37d",
   "metadata": {
    "collapsed": false,
    "jupyter": {
     "outputs_hidden": false
    }
   },
   "source": [
    "MÁSTER BIG DATA & DATA ENGINEERING\n",
    "\n",
    "Entrega Final Módulo: Programación avanzada en Python\n",
    "\n",
    "Autor: Germán Artigot Cortizo\n",
    "\n"
   ]
  },
  {
   "cell_type": "markdown",
   "id": "def765128442826e",
   "metadata": {
    "collapsed": false,
    "jupyter": {
     "outputs_hidden": false
    }
   },
   "source": [
    "## Nota Preliminar\n",
    "\n",
    "Según se podrá observar en la evaluación de este proyecto, a lo largo del mismo se recurren a distintos métodos para realizar funciones similares. Esto no es sino debido a que el proyecto se ha realizado a lo largo de varias semanas por lo que, según se profundizaba en el conocimiento y la práctica de la programación con Pandas, se han hallado diversas formas de lograr el mismo resultado.\n"
   ]
  },
  {
   "cell_type": "markdown",
   "id": "9a2b874ff12a726b",
   "metadata": {
    "collapsed": false,
    "jupyter": {
     "outputs_hidden": false
    }
   },
   "source": [
    "## Introducción\n",
    "\n",
    "En el portal de datos abiertos de la EMT de Madrid se puede encontrar abundante información sobre transporte y movilidad de la ciudad. En particular los datos relativos a la utilización del servicio de bicicletas eléctricas del ayuntamiento de Madrid.\n",
    "La dirección del portal mencionado es la siguiente:\n",
    "\n",
    "https://opendata.emtmadrid.es/Home\n",
    "\n",
    "y el enlace donde se encuentran los datos relativos a BiciMAD es el siguiente:\n",
    "\n",
    "https://opendata.emtmadrid.es/Datos-estaticos/Datos-generales-(1)\n",
    "\n",
    "En esta página podemos encontrar los datos de uso de BiciMAD por meses desde abril de 2019 hasta el mes Febrero de 2023. Se trata de un conjunto de URLs a ficheros comprimidos ZIP, donde una vez descomprimidos, podemos encontrar un fichero en formato `csv`.\n",
    "En esta práctica __solo nos va a interesar los datos de uso desde junio el 2021__. Son ficheros con nombre:\n",
    "\n",
    "`\n",
    "trips_YY_MM_monthName.csv\n",
    "`\n",
    "\n",
    "donde `YY` representa el año, `MM` representa el mes y `monthName` representa el nombre del mes en inglés.\n",
    "\n",
    "Los datos del mes 10 del año 2021 está mal generado por la EMT, por lo que se pide que no se use ese fichero.\n",
    "\n",
    "### Metadatos\n",
    "\n",
    "En cada uno de los ficheros `csv` podemos encontrar los siguientes datos:\n",
    "\n",
    "* `date` (Fecha): La fecha en la que tuvo lugar el viaje.\n",
    "* `idbike` (ID de Bicicleta): El identificador único de la bicicleta utilizada para el viaje.\n",
    "* `fleet` (Flota): La flota a la que pertenece la bicicleta utilizada.\n",
    "* `trip_minutes` (Duración del Viaje en Minutos): La duración del viaje en minutos.\n",
    "* `geolocation_unlock` (Geolocalización de Desbloqueo): Las coordenadas geográficas del lugar de inicio del viaje.\n",
    "* `address_unlock` (Dirección de Desbloqueo): La dirección postal en la que se desbloqueó la bicicleta.\n",
    "* `unlock_date` (Fecha y Hora de Desbloqueo): La fecha y hora exactas en las que comenzó el viaje.\n",
    "* `locktype` (Tipo de Bloqueo): El estado de la bicicleta antes del viaje. Puede estar anclada en una estación o simplemente bloqueada en cualquier lugar libremente.\n",
    "* `unlocktype` (Tipo de Desbloqueo): El estado de la bicicleta después del viaje.\n",
    "* `geolocation_lock` (Geolocalización de Bloqueo): Las coordenadas geográficas del lugar final del viaje.\n",
    "* `address_lock` (Dirección de Bloqueo): La dirección postal en la que se bloqueó la bicicleta.\n",
    "* `lock_date` (Fecha y Hora de Bloqueo): La fecha y hora exactas en las que finalizó el viaje.\n",
    "* `station_unlock` (Número de Estación de Desbloqueo): El número de la estación en la que la bicicleta estaba anclada antes del viaje, si la había.\n",
    "* `dock_unlock` (Muelle de Desbloqueo): El muelle de la estación en la que la bicicleta estaba anclada antes del viaje, si la había.\n",
    "*  `unlock_station_name` (Nombre de la Estación de Desbloqueo): El nombre de la estación en la que la bicicleta estaba anclada antes del viaje, si la había.\n",
    "* `station_lock` (Número de Estación de Bloqueo): El número de la estación en la que la bicicleta estaba anclada después del viaje, si la había.\n",
    "* `dock_lock` (Muelle de Bloqueo): El muelle de la estación en la que la bicicleta estaba anclada después del viaje, si la había.\n",
    "* `lock_station_name` (Nombre de la Estación de Bloqueo): El nombre de la estación en la que la bicicleta estaba anclada después del viaje, si la había.\n",
    "\n",
    "## Librerías\n",
    "\n",
    "Importar todas las librerías necesarias al principio, tal como propone el estilo `pep-8`. Ej.:\n",
    "<a href=\"https://www.python.org/dev/peps/pep-0008/\">PEP 8 -- Style Guide for Python Code</a>."
   ]
  },
  {
   "cell_type": "code",
   "execution_count": 1,
   "id": "92688373c3481928",
   "metadata": {
    "collapsed": false,
    "jupyter": {
     "outputs_hidden": false
    }
   },
   "outputs": [],
   "source": [
    "#Importación de librerías necesarias\n",
    "from BiciMad import urlemt\n",
    "import io\n",
    "import re\n",
    "import requests\n",
    "import zipfile\n",
    "import os\n",
    "import pandas as pd\n",
    "import matplotlib.pyplot as plt"
   ]
  },
  {
   "cell_type": "markdown",
   "id": "832a82b286dd8624",
   "metadata": {
    "collapsed": false,
    "jupyter": {
     "outputs_hidden": false
    }
   },
   "source": [
    "## ETAPA 1. Análisis exploratorio y consultas.\n"
   ]
  },
  {
   "cell_type": "markdown",
   "id": "5d8cad38f45464b5",
   "metadata": {
    "collapsed": false,
    "jupyter": {
     "outputs_hidden": false
    }
   },
   "source": [
    "\n",
    "\n",
    "### La descarga de los ficheros\n",
    "\n",
    "En este notebook vamos a estudiar únicamente los datos de febrero de 2023.\n",
    "La URL que permite descargar dichos datos es la siguiente:"
   ]
  },
  {
   "cell_type": "code",
   "execution_count": 2,
   "id": "f880274489f6040",
   "metadata": {
    "collapsed": false,
    "jupyter": {
     "outputs_hidden": false
    }
   },
   "outputs": [],
   "source": [
    "url = \"https://opendata.emtmadrid.es/getattachment/7a88cb04-9007-4520-88c5-a94c71a0b925/trips_23_02_February-csv.aspx\""
   ]
  },
  {
   "cell_type": "markdown",
   "id": "699a44b6be75119f",
   "metadata": {
    "collapsed": false,
    "jupyter": {
     "outputs_hidden": false
    }
   },
   "source": [
    "Observa que en la URL aparece la cadena `trips_23_02`, y que el fichero ZIP tiene un archivo de datos en formato csv llamado `trips_23_02_February.csv`.\n",
    "\n",
    "\n",
    "__Se pide:__\n",
    " Escribir una función llamada `csv_from_zip` que reciba como único argumento un string que represente la URL al fichero ZIP de datos de uso y devuelva un fichero en formato CSV. El tipo del objeto devuelto es `TextIO`. La función  lanzará una excepción de tipo `ConnectionError` en caso de que falle la petición al servidor de la EMT.\n",
    "\n",
    "__Observaciones:__\n",
    "En el notebook `05_ficheros` del módulo de `Secuencias` se habla del manejo de ficheros en formato ZIP, y de cómo leer un fichero, transformarlo en una cadena de caracteres para posteriormente, usando el método `String.IO`, obtener un fichero de texto.\n",
    "Deberás importar el módulo `typing`."
   ]
  },
  {
   "cell_type": "code",
   "execution_count": 3,
   "id": "5e9376cba1140225",
   "metadata": {
    "collapsed": false,
    "jupyter": {
     "outputs_hidden": false
    }
   },
   "outputs": [],
   "source": [
    "# Solución 1: Haciendo uso del método con la misma funcionalidad que definimos en la clase UrlEmt\n",
    "def csv_from_zip(url: str) -> io.StringIO:\n",
    "    \"\"\"\n",
    "    Función que devuelva los datos de la EMT para un URL suministrado\n",
    "    :param url: URL de acceso a los datos de la EMT\n",
    "    :return: contenido del CSV producto de la descarga\n",
    "    \"\"\"\n",
    "    ex = r'_\\d{2}_\\d{2}_'\n",
    "    pattern = re.compile(ex)\n",
    "    year_month = re.search(pattern, url)[0]\n",
    "    year_month_list = year_month.split('_')\n",
    "    year_month_list = list(filter(None, year_month_list))\n",
    "\n",
    "    emt_info = urlemt.UrlEmt()\n",
    "    return emt_info.get_csv(int(year_month_list[1]), int(year_month_list[0]))"
   ]
  },
  {
   "cell_type": "code",
   "execution_count": 6,
   "id": "a1df47ad30c1d6f7",
   "metadata": {
    "collapsed": false,
    "jupyter": {
     "outputs_hidden": false
    }
   },
   "outputs": [
    {
     "name": "stdout",
     "output_type": "stream",
     "text": [
      "El tipo de la variable devuelta por la función es: <class '_io.TextIOWrapper'>\n"
     ]
    }
   ],
   "source": [
    "# Prueba\n",
    "csvfile = csv_from_zip(url)\n",
    "print(f'El tipo de la variable devuelta por la función es: {type(csvfile)}')"
   ]
  },
  {
   "cell_type": "code",
   "execution_count": 10,
   "id": "5cfd7c7b2332aaf9",
   "metadata": {
    "collapsed": false,
    "jupyter": {
     "outputs_hidden": false
    }
   },
   "outputs": [],
   "source": [
    "#Solución 2: Desgranando la lógica del método invocado en la solución 1\n",
    "def csv_from_zip(url: str) -> io.StringIO:\n",
    "    \"\"\"\n",
    "    Función que devuelva los datos de la EMT para un URL suministrado\n",
    "    :param url: URL de acceso a los datos de la EMT\n",
    "    :return: contenido del CSV producto de la descarga\n",
    "    \"\"\"\n",
    "    ex = r'_\\d{2}_\\d{2}_'\n",
    "    pattern = re.compile(ex)\n",
    "    year_month = re.search(pattern, url)[0]\n",
    "    year_month_list = year_month.split('_')\n",
    "    year_month_list = list(filter(None, year_month_list))\n",
    "    \n",
    "    try:\n",
    "        url_connection = requests.get(url)\n",
    "        url_connection.raise_for_status()\n",
    "    except ValueError as error:\n",
    "        raise error\n",
    "    except Exception:\n",
    "        raise ConnectionError(f'No se pudo conectar correctamente al servidor de la EMT.'\n",
    "                              f'Code: f{url_connection.status_code}. Error: f{url_connection.reason}')\n",
    "    \n",
    "    filename = f'trips_{year_month_list[0]}_{year_month_list[1]}'\n",
    "    zip_file = zipfile.ZipFile(io.BytesIO(url_connection.content))\n",
    "    zip_file.extractall(r'./data/' + filename)\n",
    "    zip_content = os.listdir(r'./data/' + filename)\n",
    "    csv_file = list(filter(lambda f: f.endswith('.csv'), zip_content))[0]\n",
    "    csv = open(r'./data/' + filename  + r'/' + csv_file, 'r', encoding='utf-8')\n",
    "    return csv"
   ]
  },
  {
   "cell_type": "code",
   "execution_count": 11,
   "id": "14317a96a80f8d2b",
   "metadata": {
    "collapsed": false,
    "jupyter": {
     "outputs_hidden": false
    }
   },
   "outputs": [
    {
     "name": "stdout",
     "output_type": "stream",
     "text": [
      "El tipo de la variable devuelta por la función es: <class '_io.TextIOWrapper'>\n"
     ]
    }
   ],
   "source": [
    "# Prueba\n",
    "csvfile = csv_from_zip(url)\n",
    "print(f'El tipo de la variable devuelta por la función es: {type(csvfile)}')"
   ]
  },
  {
   "cell_type": "markdown",
   "id": "55260214b622fa41",
   "metadata": {
    "collapsed": false,
    "jupyter": {
     "outputs_hidden": false
    }
   },
   "source": [
    "### Creación del dataframe de datos\n",
    "\n",
    "__Se pide:__\n",
    "Crear una función llamada `get_data` que reciba como único argumento un fichero csv y que devuelva un objeto de tipo DataFrame con las siguientes restricciones:\n",
    "* El índice del dataframe debe ser a fecha en la que tuvo lugar el viaje (usa el argumento `index_col`).\n",
    "* Todas las fechas que aparecen en los datos ha de tener tipo `datetime` (usa el argumento 'parse_dates`).\n",
    "* De todas las columnas que hay en el fichero, solo nos interesan las siguientes:\n",
    "\n",
    "   ```\n",
    "     [ 'idBike', 'fleet', 'trip_minutes', 'geolocation_unlock', 'address_unlock', 'unlock_date', 'locktype',\n",
    "     'unlocktype', 'geolocation_lock', 'address_lock', 'lock_date', 'station_unlock', 'unlock_station_name',\n",
    "     'station_lock', 'lock_station_name']\n",
    "   ```\n",
    "\n",
    "por lo que el dataframe ha de tener solo dichas columnas.\n",
    "\n",
    "__Observaciones:__ Observa que los datos de usos que publica la EMT son fichero CSV donde el separador de campos es el símbolo `;`."
   ]
  },
  {
   "cell_type": "code",
   "execution_count": 12,
   "id": "a1ddeeda3629a528",
   "metadata": {
    "collapsed": false,
    "jupyter": {
     "outputs_hidden": false
    }
   },
   "outputs": [],
   "source": [
    "# Solución:\n",
    "def get_data(csv: io.StringIO) -> pd.DataFrame:\n",
    "    \"\"\"\n",
    "    Función que dados los datos contenidos en un CSV devuelve un objeto pandas.DataFrame con los datos formateados debidamente\n",
    "    :param csv: stream de lectura de los datos contenidos en el CSV\n",
    "    :return: objeto pandas.DatFrame con los datos con fechas en el tipo de dato debido e índice fecha\n",
    "    \"\"\"\n",
    "    data_df = pd.read_csv(csv, sep=';', index_col='fecha', parse_dates=['fecha', 'unlock_date', 'lock_date'])\n",
    "\n",
    "    return data_df"
   ]
  },
  {
   "cell_type": "code",
   "execution_count": 28,
   "id": "4c52873f41e2a233",
   "metadata": {
    "collapsed": false,
    "jupyter": {
     "outputs_hidden": false
    }
   },
   "outputs": [
    {
     "name": "stdout",
     "output_type": "stream",
     "text": [
      "El índice del DataFrame es: fecha\n",
      "Los tipos de dato de las columnas de fechas son: datetime64[ns],datetime64[ns], datetime64[ns]\n",
      "Y las columnas son: ['idBike' 'fleet' 'trip_minutes' 'geolocation_unlock' 'address_unlock'\n",
      " 'unlock_date' 'locktype' 'unlocktype' 'geolocation_lock' 'address_lock'\n",
      " 'lock_date' 'station_unlock' 'dock_unlock' 'unlock_station_name'\n",
      " 'station_lock' 'dock_lock' 'lock_station_name']\n"
     ]
    }
   ],
   "source": [
    "# Prueba\n",
    "csvfile = csv_from_zip(url)\n",
    "usos = get_data(csvfile)\n",
    "usos.head()\n",
    "print(f'El índice del DataFrame es: {usos.index.name}')\n",
    "print(f'Los tipos de dato de las columnas de fechas son: {usos.index.dtype},{usos.unlock_date.dtype}, {usos.lock_date.dtype}')\n",
    "print(f'Y las columnas son: {usos.columns.values}')"
   ]
  },
  {
   "cell_type": "markdown",
   "id": "a3f2605a4417997d",
   "metadata": {
    "collapsed": false,
    "jupyter": {
     "outputs_hidden": false
    }
   },
   "source": [
    "### Explorar la estructura de los datos en el dataframe\n",
    "\n",
    "El método `info` devuelve información acerca de la estructura de un dataframe.\n",
    "\n",
    "__Se pide:__\n",
    "Escribe el código necesario para crear un dataframe llamado `usos` a partir de la url \"https://opendata.emtmadrid.es/getattachment/7a88cb04-9007-4520-88c5-a94c71a0b925/trips_23_02_February-csv.aspx\".\n",
    "Ejecuta el método `info()` sobre el dataframe y comenta los resultados.\n",
    "Fíjate en las columnas que representan fechas y comprueba su tipo de datos. ¿Cuántas filas se han cargado?. Fíjate en los valores distintos de `NaN` en cada una de las columnas."
   ]
  },
  {
   "cell_type": "code",
   "execution_count": 47,
   "id": "d0be5c61856b4f16",
   "metadata": {
    "collapsed": false,
    "jupyter": {
     "outputs_hidden": false
    }
   },
   "outputs": [
    {
     "name": "stdout",
     "output_type": "stream",
     "text": [
      "<class 'pandas.core.frame.DataFrame'>\n",
      "DatetimeIndex: 336988 entries, NaT to 2023-02-18\n",
      "Data columns (total 17 columns):\n",
      " #   Column               Non-Null Count   Dtype         \n",
      "---  ------               --------------   -----         \n",
      " 0   idBike               168494 non-null  float64       \n",
      " 1   fleet                168494 non-null  float64       \n",
      " 2   trip_minutes         168494 non-null  float64       \n",
      " 3   geolocation_unlock   168494 non-null  object        \n",
      " 4   address_unlock       168494 non-null  object        \n",
      " 5   unlock_date          168494 non-null  datetime64[ns]\n",
      " 6   locktype             168494 non-null  object        \n",
      " 7   unlocktype           168494 non-null  object        \n",
      " 8   geolocation_lock     168494 non-null  object        \n",
      " 9   address_lock         168494 non-null  object        \n",
      " 10  lock_date            168494 non-null  datetime64[ns]\n",
      " 11  station_unlock       168114 non-null  float64       \n",
      " 12  dock_unlock          168114 non-null  float64       \n",
      " 13  unlock_station_name  168114 non-null  object        \n",
      " 14  station_lock         168018 non-null  float64       \n",
      " 15  dock_lock            168018 non-null  float64       \n",
      " 16  lock_station_name    168018 non-null  object        \n",
      "dtypes: datetime64[ns](2), float64(7), object(8)\n",
      "memory usage: 46.3+ MB\n",
      "\n",
      "El número de columnas cargadas en el DataFrame (incluyendo índice) es: 18\n",
      "El tipo de dato de las columnas de fecha es: \"fecha\"->datetime64[ns] \"unlock_date\"->datetime64[ns] \"lock_date\"->datetime64[ns]\n",
      "El número de filas cargadas en el DataFrame (incluyendo índice) es: 336988\n",
      "El número de valores NaN en las columnas es:\n",
      "idBike                 168494\n",
      "fleet                  168494\n",
      "trip_minutes           168494\n",
      "geolocation_unlock     168494\n",
      "address_unlock         168494\n",
      "unlock_date            168494\n",
      "locktype               168494\n",
      "unlocktype             168494\n",
      "geolocation_lock       168494\n",
      "address_lock           168494\n",
      "lock_date              168494\n",
      "station_unlock         168874\n",
      "dock_unlock            168874\n",
      "unlock_station_name    168874\n",
      "station_lock           168970\n",
      "dock_lock              168970\n",
      "lock_station_name      168970\n",
      "dtype: int64\n"
     ]
    }
   ],
   "source": [
    "# Solución:\n",
    "url_csv = csv_from_zip(url)\n",
    "usos = get_data(url_csv)\n",
    "usos.info()\n",
    "\n",
    "print('\\n' + f'El número de columnas cargadas en el DataFrame (incluyendo índice) es: {usos.shape[1] + usos.index.nlevels}')\n",
    "print(f'El tipo de dato de las columnas de fecha es: \"fecha\"->{usos.index.dtype} \"unlock_date\"->{usos.unlock_date.dtype} \"lock_date\"->{usos.lock_date.dtype}')\n",
    "print(f'El número de filas cargadas en el DataFrame (incluyendo índice) es: {len(usos.index)}')\n",
    "print('El número de valores NaN en las columnas es:\\n' + f'{usos.isna().sum()}')"
   ]
  },
  {
   "cell_type": "markdown",
   "id": "480bef361a41a1ce",
   "metadata": {
    "collapsed": false,
    "jupyter": {
     "outputs_hidden": false
    }
   },
   "source": [
    "### Borrado de valores NaN.\n",
    "\n",
    "El método  `dropna` de los DataFrames tiene un argumento `how` que permite indicar que se borren filas o columnas donde todos los valores son `NaN`.\n",
    "\n",
    "__Se pide:__ Crear una función llamada `delete_nan_rows` que borre las filas con todos sus valores `NaN` de un dataframe recibido como argumento. La función modifica el dataframe y no devuelve nada.  \n",
    "\n",
    "Comenta los resultados. Prueba la función `delete_nan_rows` con el dataframe `usos`. Comprueba que el número de filas del dataframe `usos` ha cambiado. Puedes volver a ejecutar el método `info` y compáralo con el resultado antes de invocar a la función `delete_nan_rows`."
   ]
  },
  {
   "cell_type": "code",
   "execution_count": 49,
   "id": "642ce29ec8337f6e",
   "metadata": {
    "collapsed": false,
    "jupyter": {
     "outputs_hidden": false
    }
   },
   "outputs": [],
   "source": [
    "# Solución:\n",
    "def delete_nan_rows(df: pd.DataFrame) -> None:\n",
    "    \"\"\"\n",
    "    Función para eliminar todos los registros de un pandas.DataFrame que tengan todos sus valores NaN\n",
    "    :param df: objeto pandas.DataFrame de entrada\n",
    "    :return: no hay salida, el objeto pandas.DataFrame de entrada es directamente modificado eliminando registros NaN\n",
    "    \"\"\"\n",
    "    df.dropna(axis=0, how='all', inplace=True)"
   ]
  },
  {
   "cell_type": "code",
   "execution_count": 51,
   "id": "80c28542aa6de4fe",
   "metadata": {
    "collapsed": false,
    "jupyter": {
     "outputs_hidden": false
    }
   },
   "outputs": [
    {
     "name": "stdout",
     "output_type": "stream",
     "text": [
      "<class 'pandas.core.frame.DataFrame'>\n",
      "DatetimeIndex: 168494 entries, 2023-02-01 to 2023-02-18\n",
      "Data columns (total 17 columns):\n",
      " #   Column               Non-Null Count   Dtype         \n",
      "---  ------               --------------   -----         \n",
      " 0   idBike               168494 non-null  float64       \n",
      " 1   fleet                168494 non-null  float64       \n",
      " 2   trip_minutes         168494 non-null  float64       \n",
      " 3   geolocation_unlock   168494 non-null  object        \n",
      " 4   address_unlock       168494 non-null  object        \n",
      " 5   unlock_date          168494 non-null  datetime64[ns]\n",
      " 6   locktype             168494 non-null  object        \n",
      " 7   unlocktype           168494 non-null  object        \n",
      " 8   geolocation_lock     168494 non-null  object        \n",
      " 9   address_lock         168494 non-null  object        \n",
      " 10  lock_date            168494 non-null  datetime64[ns]\n",
      " 11  station_unlock       168114 non-null  float64       \n",
      " 12  dock_unlock          168114 non-null  float64       \n",
      " 13  unlock_station_name  168114 non-null  object        \n",
      " 14  station_lock         168018 non-null  float64       \n",
      " 15  dock_lock            168018 non-null  float64       \n",
      " 16  lock_station_name    168018 non-null  object        \n",
      "dtypes: datetime64[ns](2), float64(7), object(8)\n",
      "memory usage: 23.1+ MB\n",
      "\n",
      "El número de valores NaN en las columnas es:\n",
      "idBike                   0\n",
      "fleet                    0\n",
      "trip_minutes             0\n",
      "geolocation_unlock       0\n",
      "address_unlock           0\n",
      "unlock_date              0\n",
      "locktype                 0\n",
      "unlocktype               0\n",
      "geolocation_lock         0\n",
      "address_lock             0\n",
      "lock_date                0\n",
      "station_unlock         380\n",
      "dock_unlock            380\n",
      "unlock_station_name    380\n",
      "station_lock           476\n",
      "dock_lock              476\n",
      "lock_station_name      476\n",
      "dtype: int64\n"
     ]
    }
   ],
   "source": [
    "# Prueba\n",
    "url_csv = csv_from_zip(url)\n",
    "usos = get_data(url_csv)\n",
    "delete_nan_rows(usos)\n",
    "usos.info()\n",
    "\n",
    "print('\\nEl número de valores NaN en las columnas es:\\n' + f'{usos.isna().sum()}')"
   ]
  },
  {
   "cell_type": "markdown",
   "id": "f6ba39bdba7d3e10",
   "metadata": {
    "collapsed": false,
    "jupyter": {
     "outputs_hidden": false
    }
   },
   "source": [
    "###  Exploración de las columnas.\n",
    "\n",
    "La columna `fleet` representa el tipo de flota de bicicleta eléctrica.\n",
    "Las BiciMAD Go son free floating y se corresponden con tipo de flota 2. A diferencia de las BiciMAD normales, no tienen por qué dejarse en una estación de bicicletas, aunque existe la posibilidad de hacerlo. Su bloqueo se realiza por medio de un candado manual, aspecto en el que se diferencian de las otras bicis municipales.\n",
    "\n",
    "Por otro lado, las columnas `locktype` y `unlocktype` tienen información del tipo de bloqueo y desbloqueo respectivamente.\n",
    "\n",
    "__Se pide:__\n",
    "* ¿Cuántos valores distintos hay en la columna `fleet` del dataframe `usos`?\n",
    "* ¿Cuántos valores distintos hay en las columnas `locktype` y `unlocktype` del dataframe `usos`?"
   ]
  },
  {
   "cell_type": "code",
   "execution_count": 54,
   "id": "d0e083820025201a",
   "metadata": {
    "collapsed": false,
    "jupyter": {
     "outputs_hidden": false
    }
   },
   "outputs": [
    {
     "name": "stdout",
     "output_type": "stream",
     "text": [
      "El número de valores distintos de la columna fleet es: 2\n",
      "El número de valores distintos de la columna locktype es: 2\n",
      "El número de valores distintos de la columna unlocktype es: 2\n"
     ]
    }
   ],
   "source": [
    "# Solución:\n",
    "url_csv = csv_from_zip(url)\n",
    "usos = get_data(url_csv)\n",
    "delete_nan_rows(usos)\n",
    "\n",
    "valores_fleet = usos['fleet'].unique()           # Valores distintos de la columna fleet\n",
    "valores_locktype = usos['locktype'].unique()     # Valores distintos de la columna locktype\n",
    "valores_unlocktype = usos['unlocktype'].unique() # Valores distintos de la columna unlocktype\n",
    "\n",
    "print(f'El número de valores distintos de la columna fleet es: {len(valores_fleet)}')\n",
    "print(f'El número de valores distintos de la columna locktype es: {len(valores_locktype)}')\n",
    "print(f'El número de valores distintos de la columna unlocktype es: {len(valores_unlocktype)}')"
   ]
  },
  {
   "cell_type": "markdown",
   "id": "eac36d59f4031734",
   "metadata": {
    "collapsed": false,
    "jupyter": {
     "outputs_hidden": false
    }
   },
   "source": [
    "### Cambio de tipo de datos\n",
    "\n",
    "Las columnas  `idBike` y `fleet`  tienen tipo float, pero en realidad representan un identificador de bicicleta y de flota respectivamente.\n",
    "\n",
    "__Se pide:__ Crear una función llamada `float_to_str` que cambie el tipo de una columna a tipo string. La función recibe como argumentos un dataframe y el nombre de una columna. La función no devuelve nada.\n",
    "Si la columna no se encuentra entre las columnas del dataframe, la función no hace nada.\n",
    "\n",
    "__Observaciones:__ Puedes usar la función `map` para aplicar la función de transformación.\n",
    "\n",
    "Prueba la función con el datafame `usos` y  las columnas `idBike` y `fleet`.\n",
    "De esta forma, el identificador de bicicleta `7337.0` pasará a ser `'7337'`. Ejecuta la función `info` sobre el dataframe `usos` para comprobar que los tipos asociados a esas columnas han cambiado."
   ]
  },
  {
   "cell_type": "code",
   "execution_count": 56,
   "id": "ea224b237368170c",
   "metadata": {
    "collapsed": false,
    "jupyter": {
     "outputs_hidden": false
    }
   },
   "outputs": [],
   "source": [
    "# Solución:\n",
    "def float_to_str(df: pd.DataFrame, col:str) -> None:\n",
    "    \"\"\"\n",
    "    Función para que castea la columna suministrada a tipo string\n",
    "    :param df: objeto pandas.DataFrame contenedor de la columna a modificar\n",
    "    :param col: columna que se desea castear\n",
    "    :return: no hay salida, el parámetro df suministrado a la entrada es modificado adhoc\n",
    "    \"\"\"\n",
    "    df[col] = df[col].map(lambda x: str(x))"
   ]
  },
  {
   "cell_type": "code",
   "execution_count": 57,
   "id": "f323e62716aa7a7c",
   "metadata": {
    "collapsed": false,
    "jupyter": {
     "outputs_hidden": false
    }
   },
   "outputs": [
    {
     "name": "stdout",
     "output_type": "stream",
     "text": [
      "El tipo de datos de las columnas idBike y fleet antes del cambio son: float64 y float64 respectivamente\n",
      "El tipo de datos de las columnas idBike y fleet despues del cambio son: object y object respectivamente\n",
      "\n",
      "Recordemos que en pandas ya que los string pueden tener longitudes distintas el tipo de dato por defecto para strings es \"object\" para ajustarse a todas las longitudes.\n"
     ]
    }
   ],
   "source": [
    "# Prueba\n",
    "url_csv = csv_from_zip(url)\n",
    "usos = get_data(url_csv)\n",
    "print(f'El tipo de datos de las columnas idBike y fleet antes del cambio son: {usos.idBike.dtype} y {usos.fleet.dtype} respectivamente')\n",
    "\n",
    "float_to_str(usos, 'idBike')\n",
    "float_to_str(usos, 'fleet')\n",
    "print(f'El tipo de datos de las columnas idBike y fleet despues del cambio son: {usos.idBike.dtype} y {usos.fleet.dtype} respectivamente')\n",
    "print('\\nRecordemos que en pandas ya que los string pueden tener longitudes distintas el tipo de dato por defecto para strings es \"object\" para ajustarse a todas las longitudes.')"
   ]
  },
  {
   "cell_type": "markdown",
   "id": "a3614b394a320ac4",
   "metadata": {
    "collapsed": false,
    "jupyter": {
     "outputs_hidden": false
    }
   },
   "source": [
    "## Consultas\n",
    "\n",
    "Las siguientes consultas se realizarán con el dataframe `usos` creado en los apartados anteriores."
   ]
  },
  {
   "cell_type": "markdown",
   "id": "385207c3be8a8cc4",
   "metadata": {
    "collapsed": false,
    "jupyter": {
     "outputs_hidden": false
    }
   },
   "source": [
    "### C1\n",
    "\n",
    "¿Cuántas bicicletas han sido desbloqueadas de una estación y no se bloquean en ninguna?"
   ]
  },
  {
   "cell_type": "code",
   "execution_count": null,
   "id": "624993a2b7b5a16b",
   "metadata": {
    "collapsed": false,
    "jupyter": {
     "outputs_hidden": false
    }
   },
   "outputs": [],
   "source": [
    "# Solución:\n",
    "filtro_c1 = (usos['locktype'] == 'STATION') & (usos['unlocktype'] == 'FREE')\n",
    "usos_c1 = usos.where(filtro_c1)"
   ]
  },
  {
   "cell_type": "code",
   "execution_count": null,
   "id": "5f738f619bdfc593",
   "metadata": {
    "collapsed": false,
    "jupyter": {
     "outputs_hidden": false
    }
   },
   "outputs": [],
   "source": [
    "# Prueba\n"
   ]
  },
  {
   "cell_type": "markdown",
   "id": "842030238a1ad379",
   "metadata": {
    "collapsed": false,
    "jupyter": {
     "outputs_hidden": false
    }
   },
   "source": [
    "### C2\n",
    "\n",
    "Seleccionar solo las bicicletas del tipo de flota '1' . El nuevo dataframe se ha de llamar `regular_fleet`."
   ]
  },
  {
   "cell_type": "code",
   "execution_count": null,
   "id": "4d4623f8f3077b32",
   "metadata": {
    "collapsed": false,
    "jupyter": {
     "outputs_hidden": false
    }
   },
   "outputs": [],
   "source": [
    "# Solución:"
   ]
  },
  {
   "cell_type": "code",
   "execution_count": null,
   "id": "2a8d9f25b514388a",
   "metadata": {
    "collapsed": false,
    "jupyter": {
     "outputs_hidden": false
    }
   },
   "outputs": [],
   "source": [
    "# Prueba:"
   ]
  },
  {
   "cell_type": "markdown",
   "id": "31af45f5ebf9a29e",
   "metadata": {
    "collapsed": false,
    "jupyter": {
     "outputs_hidden": false
    }
   },
   "source": [
    "### C3\n",
    "\n",
    "Crea una función llamada `day_time` para calcular las horas totales de uso de bicicletas por día del mes.\n",
    "La función recibe un dataframe y devuelve una Serie donde el índice es la fecha y el valor es el número de horas.\n",
    "\n",
    "Prueba la función anterior con el dataframe  `usos`.\n",
    "\n",
    "__Opcional:__ Dibuja un diagrama de barras con el resultado de la función `day_time` sobre el dataframe `usos`. Utiliza el módulo `matplotlib.pyplot`."
   ]
  },
  {
   "cell_type": "code",
   "execution_count": null,
   "id": "29d9959c437a4218",
   "metadata": {
    "collapsed": false,
    "jupyter": {
     "outputs_hidden": false
    }
   },
   "outputs": [],
   "source": [
    "# Solución:\n",
    "def day_time(df: pd.DataFrame) -> pd.Series:\n",
    "    \"\"\"\n",
    "    Función para calcular el uso en horas de bicicletas por día del mes\n",
    "    :param df: objeto pandas.DataFrame con los datos de uso de la EMT por mes\n",
    "    :return: objeto pandas.Series con el día y número de horas de uso de las bicicletas\n",
    "    \"\"\"\n",
    "    data_dates = df.index.unique()\n",
    "    trips_per_day = pd.Series()\n",
    "    for date in data_dates:\n",
    "        trips_day = pd.Series(df[df.index == date]['trip_minutes'].sum()/60, index=[date])\n",
    "        trips_per_day= pd.concat([trips_per_day, trips_day])\n",
    "    return trips_per_day"
   ]
  },
  {
   "cell_type": "code",
   "execution_count": null,
   "id": "dffa4fe56860bc1e",
   "metadata": {
    "collapsed": false,
    "jupyter": {
     "outputs_hidden": false
    }
   },
   "outputs": [],
   "source": [
    "# Prueba:\n",
    "use_hours_date = day_time(usos)\n",
    "use_hours_date.plot.bar()\n",
    "plt.show()"
   ]
  },
  {
   "cell_type": "markdown",
   "id": "35352c149032ef",
   "metadata": {
    "collapsed": false,
    "jupyter": {
     "outputs_hidden": false
    }
   },
   "source": [
    "### C4\n",
    "\n",
    "Crea una función llamada `weekday_time` para calcular las horas totales de uso de bicicletas por día de la semana. La función recibe un dataframe y devuelve una Serie donde el índice es el día de la semana (L, M, X, J, V, S, D) y el valor es el número de horas.\n",
    "\n",
    "Prueba la función anterior con el dataframe usos.\n",
    "\n"
   ]
  },
  {
   "cell_type": "code",
   "execution_count": null,
   "id": "56f566e769359ad1",
   "metadata": {
    "collapsed": false,
    "jupyter": {
     "outputs_hidden": false
    }
   },
   "outputs": [],
   "source": [
    "# Solución:\n"
   ]
  },
  {
   "cell_type": "code",
   "execution_count": null,
   "id": "d026ebeb323f13bd",
   "metadata": {
    "collapsed": false,
    "jupyter": {
     "outputs_hidden": false
    }
   },
   "outputs": [],
   "source": [
    "# Prueba\n"
   ]
  },
  {
   "cell_type": "markdown",
   "id": "b9bd14a34ffc6dba",
   "metadata": {
    "collapsed": false,
    "jupyter": {
     "outputs_hidden": false
    }
   },
   "source": [
    "### C5\n",
    "\n",
    "Crea una función llamada `total_usage_day` para calcular el número total de usos de bicicletas por día del mes. La función recibe un dataframe y devuelve una Serie donde el índice es la fecha y el valor es el número de usos.\n",
    "\n",
    "Prueba la función anterior con el dataframe usos.\n",
    "\n"
   ]
  },
  {
   "cell_type": "code",
   "execution_count": null,
   "id": "ddfd154020257dae",
   "metadata": {
    "collapsed": false,
    "jupyter": {
     "outputs_hidden": false
    }
   },
   "outputs": [],
   "source": [
    "# Solución:\n"
   ]
  },
  {
   "cell_type": "code",
   "execution_count": null,
   "id": "f288818e96be0236",
   "metadata": {
    "collapsed": false,
    "jupyter": {
     "outputs_hidden": false
    }
   },
   "outputs": [],
   "source": [
    "# Prueba\n"
   ]
  },
  {
   "cell_type": "markdown",
   "id": "c590015a54362463",
   "metadata": {
    "collapsed": false,
    "jupyter": {
     "outputs_hidden": false
    }
   },
   "source": [
    "### C6\n",
    "\n",
    "Calcular el total de usos por fecha y estación de desbloqueo. Como la fecha está en el índice y la estación de desbloqueo es una columna, lo mejor es agrupar por la columna `station_unlock` y  un objeto `Grouper` de frecuencia diaria (1D).\n",
    "\n",
    "A continuación, se muestra un ejemplo del funcionamiento de la función Grouper de pandas:\n",
    "```\n",
    ">>> df\n",
    "             ID  Price\n",
    "2000-01-02   0     10\n",
    "2000-01-02   1     20\n",
    "2000-01-09   2     30\n",
    "2000-01-16   3     40\n",
    "\n",
    "# Grouper con frecuencia semanal (1W)\n",
    ">>> df.groupby(pd.Grouper(freq=\"1W\")).mean()\n",
    "               ID  Price\n",
    "\n",
    "2000-01-02    0.5   15.0\n",
    "2000-01-09    2.0   30.0\n",
    "2000-01-16    3.0   40.0\n",
    "```"
   ]
  },
  {
   "cell_type": "code",
   "execution_count": null,
   "id": "c55bab5a51491b73",
   "metadata": {
    "collapsed": false,
    "jupyter": {
     "outputs_hidden": false
    }
   },
   "outputs": [],
   "source": [
    "# Solución:\n"
   ]
  },
  {
   "cell_type": "code",
   "execution_count": null,
   "id": "f1e29f5a6225b596",
   "metadata": {
    "collapsed": false,
    "jupyter": {
     "outputs_hidden": false
    }
   },
   "outputs": [],
   "source": [
    "# Prueba\n"
   ]
  },
  {
   "cell_type": "markdown",
   "id": "a760e578f0d01694",
   "metadata": {
    "collapsed": false,
    "jupyter": {
     "outputs_hidden": false
    }
   },
   "source": [
    "### C7\n",
    "\n",
    "Se quiere averiguar la dirección de las estaciones de desbloqueo que a lo largo del mes han tenido un mayor número de viajes. Crear una función llamada `most_popular_stations` que calcule dicho dato. El argumento de la función es un dataframe y devuelve un conjunto con la dirección de las estaciones.\n",
    "\n"
   ]
  },
  {
   "cell_type": "code",
   "execution_count": null,
   "id": "fc264945c5f806d1",
   "metadata": {
    "collapsed": false,
    "jupyter": {
     "outputs_hidden": false
    }
   },
   "outputs": [],
   "source": [
    "# Solución:\n"
   ]
  },
  {
   "cell_type": "code",
   "execution_count": null,
   "id": "92d9321a325fe347",
   "metadata": {
    "collapsed": false,
    "jupyter": {
     "outputs_hidden": false
    }
   },
   "outputs": [],
   "source": [
    "# Prueba\n"
   ]
  },
  {
   "cell_type": "markdown",
   "id": "3cc8010182897f17",
   "metadata": {
    "collapsed": false,
    "jupyter": {
     "outputs_hidden": false
    }
   },
   "source": [
    "### C8\n",
    "\n",
    "Se quiere averiguar el  número de usos de las estaciones de desbloqueo que a lo largo del mes ha tenido un mayor número de viajes. Crear una función llamada `usage_from_most_popular_station` que calcule dicho dato. El argumento de la función es un dataframe y devuelve un entero."
   ]
  },
  {
   "cell_type": "code",
   "execution_count": null,
   "id": "e012f942e290386",
   "metadata": {
    "collapsed": false,
    "jupyter": {
     "outputs_hidden": false
    }
   },
   "outputs": [],
   "source": [
    "# Solución:\n"
   ]
  },
  {
   "cell_type": "code",
   "execution_count": null,
   "id": "9449bb4c8822ca46",
   "metadata": {
    "collapsed": false,
    "jupyter": {
     "outputs_hidden": false
    }
   },
   "outputs": [],
   "source": [
    "# Prueba\n"
   ]
  }
 ],
 "metadata": {
  "kernelspec": {
   "display_name": "Python 3 (ipykernel)",
   "language": "python",
   "name": "python3"
  },
  "language_info": {
   "codemirror_mode": {
    "name": "ipython",
    "version": 3
   },
   "file_extension": ".py",
   "mimetype": "text/x-python",
   "name": "python",
   "nbconvert_exporter": "python",
   "pygments_lexer": "ipython3",
   "version": "3.11.6"
  }
 },
 "nbformat": 4,
 "nbformat_minor": 5
}
