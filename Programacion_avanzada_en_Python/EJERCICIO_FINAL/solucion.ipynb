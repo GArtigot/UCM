{
 "cells": [
  {
   "cell_type": "markdown",
   "source": [
    "MÁSTER BIG DATA & DATA ENGINEERING\n",
    "\n",
    "Entrega Final Módulo: Programación avanzada en Python\n",
    "\n",
    "Autor: Germán Artigot Cortizo\n",
    "\n"
   ],
   "metadata": {
    "collapsed": false
   },
   "id": "b7a0d9280703f37d"
  },
  {
   "cell_type": "markdown",
   "source": [
    "## Nota Preliminar\n",
    "\n",
    "Según se observaré en la evaluación de este proyecto, a lo largo del mismo se recurren a distintos métodos para realizar funciones similares. Esto no es sino debido a que el proyecto se ha realizado a lo largo de varios días por lo que, según se profundizaba en el conocimiento y la práctica de la programación con Pandas, se han hallado diversas formas de lograr el mismo resultado.\n"
   ],
   "metadata": {
    "collapsed": false
   },
   "id": "def765128442826e"
  },
  {
   "cell_type": "code",
   "execution_count": null,
   "outputs": [],
   "source": [],
   "metadata": {
    "collapsed": false
   },
   "id": "171f319f5ec52f62"
  }
 ],
 "metadata": {
  "kernelspec": {
   "display_name": "Python 3",
   "language": "python",
   "name": "python3"
  },
  "language_info": {
   "codemirror_mode": {
    "name": "ipython",
    "version": 2
   },
   "file_extension": ".py",
   "mimetype": "text/x-python",
   "name": "python",
   "nbconvert_exporter": "python",
   "pygments_lexer": "ipython2",
   "version": "2.7.6"
  }
 },
 "nbformat": 4,
 "nbformat_minor": 5
}
