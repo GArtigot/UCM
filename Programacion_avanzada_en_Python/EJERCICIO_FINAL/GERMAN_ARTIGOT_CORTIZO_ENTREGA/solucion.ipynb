{
 "cells": [
  {
   "cell_type": "markdown",
   "id": "b7a0d9280703f37d",
   "metadata": {
    "collapsed": false,
    "jupyter": {
     "outputs_hidden": false
    }
   },
   "source": [
    "MÁSTER BIG DATA & DATA ENGINEERING\n",
    "\n",
    "Entrega Final Módulo: Programación avanzada en Python\n",
    "\n",
    "Autor: Germán Artigot Cortizo\n",
    "\n"
   ]
  },
  {
   "cell_type": "markdown",
   "id": "def765128442826e",
   "metadata": {
    "collapsed": false,
    "jupyter": {
     "outputs_hidden": false
    }
   },
   "source": [
    "## Nota Preliminar\n",
    "\n",
    "Según se podrá observar en la evaluación de este proyecto, a lo largo del mismo se recurren a distintos métodos para realizar funciones similares. Esto no es sino debido a que el proyecto se ha realizado a lo largo de varias semanas por lo que, según se profundizaba en el conocimiento y la práctica de la programación con Pandas, se han hallado diversas formas de lograr el mismo resultado.\n"
   ]
  },
  {
   "cell_type": "markdown",
   "id": "9a2b874ff12a726b",
   "metadata": {
    "collapsed": false,
    "jupyter": {
     "outputs_hidden": false
    }
   },
   "source": [
    "## Introducción\n",
    "\n",
    "En el portal de datos abiertos de la EMT de Madrid se puede encontrar abundante información sobre transporte y movilidad de la ciudad. En particular los datos relativos a la utilización del servicio de bicicletas eléctricas del ayuntamiento de Madrid.\n",
    "La dirección del portal mencionado es la siguiente:\n",
    "\n",
    "https://opendata.emtmadrid.es/Home\n",
    "\n",
    "y el enlace donde se encuentran los datos relativos a BiciMAD es el siguiente:\n",
    "\n",
    "https://opendata.emtmadrid.es/Datos-estaticos/Datos-generales-(1)\n",
    "\n",
    "En esta página podemos encontrar los datos de uso de BiciMAD por meses desde abril de 2019 hasta el mes Febrero de 2023. Se trata de un conjunto de URLs a ficheros comprimidos ZIP, donde una vez descomprimidos, podemos encontrar un fichero en formato `csv`.\n",
    "En esta práctica __solo nos va a interesar los datos de uso desde junio el 2021__. Son ficheros con nombre:\n",
    "\n",
    "`\n",
    "trips_YY_MM_monthName.csv\n",
    "`\n",
    "\n",
    "donde `YY` representa el año, `MM` representa el mes y `monthName` representa el nombre del mes en inglés.\n",
    "\n",
    "Los datos del mes 10 del año 2021 está mal generado por la EMT, por lo que se pide que no se use ese fichero.\n",
    "\n",
    "### Metadatos\n",
    "\n",
    "En cada uno de los ficheros `csv` podemos encontrar los siguientes datos:\n",
    "\n",
    "* `date` (Fecha): La fecha en la que tuvo lugar el viaje.\n",
    "* `idbike` (ID de Bicicleta): El identificador único de la bicicleta utilizada para el viaje.\n",
    "* `fleet` (Flota): La flota a la que pertenece la bicicleta utilizada.\n",
    "* `trip_minutes` (Duración del Viaje en Minutos): La duración del viaje en minutos.\n",
    "* `geolocation_unlock` (Geolocalización de Desbloqueo): Las coordenadas geográficas del lugar de inicio del viaje.\n",
    "* `address_unlock` (Dirección de Desbloqueo): La dirección postal en la que se desbloqueó la bicicleta.\n",
    "* `unlock_date` (Fecha y Hora de Desbloqueo): La fecha y hora exactas en las que comenzó el viaje.\n",
    "* `locktype` (Tipo de Bloqueo): El estado de la bicicleta antes del viaje. Puede estar anclada en una estación o simplemente bloqueada en cualquier lugar libremente.\n",
    "* `unlocktype` (Tipo de Desbloqueo): El estado de la bicicleta después del viaje.\n",
    "* `geolocation_lock` (Geolocalización de Bloqueo): Las coordenadas geográficas del lugar final del viaje.\n",
    "* `address_lock` (Dirección de Bloqueo): La dirección postal en la que se bloqueó la bicicleta.\n",
    "* `lock_date` (Fecha y Hora de Bloqueo): La fecha y hora exactas en las que finalizó el viaje.\n",
    "* `station_unlock` (Número de Estación de Desbloqueo): El número de la estación en la que la bicicleta estaba anclada antes del viaje, si la había.\n",
    "* `dock_unlock` (Muelle de Desbloqueo): El muelle de la estación en la que la bicicleta estaba anclada antes del viaje, si la había.\n",
    "*  `unlock_station_name` (Nombre de la Estación de Desbloqueo): El nombre de la estación en la que la bicicleta estaba anclada antes del viaje, si la había.\n",
    "* `station_lock` (Número de Estación de Bloqueo): El número de la estación en la que la bicicleta estaba anclada después del viaje, si la había.\n",
    "* `dock_lock` (Muelle de Bloqueo): El muelle de la estación en la que la bicicleta estaba anclada después del viaje, si la había.\n",
    "* `lock_station_name` (Nombre de la Estación de Bloqueo): El nombre de la estación en la que la bicicleta estaba anclada después del viaje, si la había.\n",
    "\n",
    "## Librerías\n",
    "\n",
    "Importar todas las librerías necesarias al principio, tal como propone el estilo `pep-8`. Ej.:\n",
    "<a href=\"https://www.python.org/dev/peps/pep-0008/\">PEP 8 -- Style Guide for Python Code</a>."
   ]
  },
  {
   "cell_type": "code",
   "execution_count": 58,
   "id": "92688373c3481928",
   "metadata": {
    "collapsed": false,
    "jupyter": {
     "outputs_hidden": false
    }
   },
   "outputs": [],
   "source": [
    "#Importación de librerías necesarias\n",
    "from BiciMad import *\n",
    "import io\n",
    "import re\n",
    "import requests\n",
    "import zipfile\n",
    "import os\n",
    "import pandas as pd\n",
    "import matplotlib.pyplot as plt"
   ]
  },
  {
   "cell_type": "markdown",
   "id": "832a82b286dd8624",
   "metadata": {
    "collapsed": false,
    "jupyter": {
     "outputs_hidden": false
    }
   },
   "source": [
    "## ETAPA 1. Análisis exploratorio y consultas.\n"
   ]
  },
  {
   "cell_type": "markdown",
   "id": "5d8cad38f45464b5",
   "metadata": {
    "collapsed": false,
    "jupyter": {
     "outputs_hidden": false
    }
   },
   "source": [
    "\n",
    "\n",
    "### La descarga de los ficheros\n",
    "\n",
    "En este notebook vamos a estudiar únicamente los datos de febrero de 2023.\n",
    "La URL que permite descargar dichos datos es la siguiente:"
   ]
  },
  {
   "cell_type": "code",
   "execution_count": 2,
   "id": "f880274489f6040",
   "metadata": {
    "collapsed": false,
    "jupyter": {
     "outputs_hidden": false
    }
   },
   "outputs": [],
   "source": [
    "url = \"https://opendata.emtmadrid.es/getattachment/7a88cb04-9007-4520-88c5-a94c71a0b925/trips_23_02_February-csv.aspx\""
   ]
  },
  {
   "cell_type": "markdown",
   "id": "699a44b6be75119f",
   "metadata": {
    "collapsed": false,
    "jupyter": {
     "outputs_hidden": false
    }
   },
   "source": [
    "Observa que en la URL aparece la cadena `trips_23_02`, y que el fichero ZIP tiene un archivo de datos en formato csv llamado `trips_23_02_February.csv`.\n",
    "\n",
    "\n",
    "__Se pide:__\n",
    " Escribir una función llamada `csv_from_zip` que reciba como único argumento un string que represente la URL al fichero ZIP de datos de uso y devuelva un fichero en formato CSV. El tipo del objeto devuelto es `TextIO`. La función  lanzará una excepción de tipo `ConnectionError` en caso de que falle la petición al servidor de la EMT.\n",
    "\n",
    "__Observaciones:__\n",
    "En el notebook `05_ficheros` del módulo de `Secuencias` se habla del manejo de ficheros en formato ZIP, y de cómo leer un fichero, transformarlo en una cadena de caracteres para posteriormente, usando el método `String.IO`, obtener un fichero de texto.\n",
    "Deberás importar el módulo `typing`."
   ]
  },
  {
   "cell_type": "code",
   "execution_count": 59,
   "id": "5e9376cba1140225",
   "metadata": {
    "collapsed": false,
    "jupyter": {
     "outputs_hidden": false
    }
   },
   "outputs": [],
   "source": [
    "# Solución 1: Haciendo uso del método con la misma funcionalidad que definimos en la clase UrlEmt\n",
    "def csv_from_zip(url: str) -> io.StringIO:\n",
    "    \"\"\"\n",
    "    Función que devuelva los datos de la EMT para un URL suministrado\n",
    "    :param url: URL de acceso a los datos de la EMT\n",
    "    :return: contenido del CSV producto de la descarga\n",
    "    \"\"\"\n",
    "    ex = r'_\\d{2}_\\d{2}_'\n",
    "    pattern = re.compile(ex)\n",
    "    year_month = re.search(pattern, url)[0]\n",
    "    year_month_list = year_month.split('_')\n",
    "    year_month_list = list(filter(None, year_month_list))\n",
    "\n",
    "    emt_info = UrlEmt()\n",
    "    return emt_info.get_csv(int(year_month_list[1]), int(year_month_list[0]))"
   ]
  },
  {
   "cell_type": "code",
   "execution_count": 60,
   "id": "a1df47ad30c1d6f7",
   "metadata": {
    "collapsed": false,
    "jupyter": {
     "outputs_hidden": false
    }
   },
   "outputs": [
    {
     "name": "stdout",
     "output_type": "stream",
     "text": [
      "El tipo de la variable devuelta por la función es: <class '_io.TextIOWrapper'>\n"
     ]
    }
   ],
   "source": [
    "# Prueba\n",
    "csvfile = csv_from_zip(url)\n",
    "print(f'El tipo de la variable devuelta por la función es: {type(csvfile)}')"
   ]
  },
  {
   "cell_type": "code",
   "execution_count": 10,
   "id": "5cfd7c7b2332aaf9",
   "metadata": {
    "collapsed": false,
    "jupyter": {
     "outputs_hidden": false
    }
   },
   "outputs": [],
   "source": [
    "#Solución 2: Desgranando la lógica del método invocado en la solución 1\n",
    "def csv_from_zip(url: str) -> io.StringIO:\n",
    "    \"\"\"\n",
    "    Función que devuelva los datos de la EMT para un URL suministrado\n",
    "    :param url: URL de acceso a los datos de la EMT\n",
    "    :return: contenido del CSV producto de la descarga\n",
    "    \"\"\"\n",
    "    ex = r'_\\d{2}_\\d{2}_'\n",
    "    pattern = re.compile(ex)\n",
    "    year_month = re.search(pattern, url)[0]\n",
    "    year_month_list = year_month.split('_')\n",
    "    year_month_list = list(filter(None, year_month_list))\n",
    "    \n",
    "    try:\n",
    "        url_connection = requests.get(url)\n",
    "        url_connection.raise_for_status()\n",
    "    except ValueError as error:\n",
    "        raise error\n",
    "    except Exception:\n",
    "        raise ConnectionError(f'No se pudo conectar correctamente al servidor de la EMT.'\n",
    "                              f'Code: f{url_connection.status_code}. Error: f{url_connection.reason}')\n",
    "    \n",
    "    filename = f'trips_{year_month_list[0]}_{year_month_list[1]}'\n",
    "    zip_file = zipfile.ZipFile(io.BytesIO(url_connection.content))\n",
    "    zip_file.extractall(r'./data/' + filename)\n",
    "    zip_content = os.listdir(r'./data/' + filename)\n",
    "    csv_file = list(filter(lambda f: f.endswith('.csv'), zip_content))[0]\n",
    "    csv = open(r'./data/' + filename  + r'/' + csv_file, 'r', encoding='utf-8')\n",
    "    return csv"
   ]
  },
  {
   "cell_type": "code",
   "execution_count": 11,
   "id": "14317a96a80f8d2b",
   "metadata": {
    "collapsed": false,
    "jupyter": {
     "outputs_hidden": false
    }
   },
   "outputs": [
    {
     "name": "stdout",
     "output_type": "stream",
     "text": [
      "El tipo de la variable devuelta por la función es: <class '_io.TextIOWrapper'>\n"
     ]
    }
   ],
   "source": [
    "# Prueba\n",
    "csvfile = csv_from_zip(url)\n",
    "print(f'El tipo de la variable devuelta por la función es: {type(csvfile)}')"
   ]
  },
  {
   "cell_type": "markdown",
   "id": "55260214b622fa41",
   "metadata": {
    "collapsed": false,
    "jupyter": {
     "outputs_hidden": false
    }
   },
   "source": [
    "### Creación del dataframe de datos\n",
    "\n",
    "__Se pide:__\n",
    "Crear una función llamada `get_data` que reciba como único argumento un fichero csv y que devuelva un objeto de tipo DataFrame con las siguientes restricciones:\n",
    "* El índice del dataframe debe ser a fecha en la que tuvo lugar el viaje (usa el argumento `index_col`).\n",
    "* Todas las fechas que aparecen en los datos ha de tener tipo `datetime` (usa el argumento 'parse_dates`).\n",
    "* De todas las columnas que hay en el fichero, solo nos interesan las siguientes:\n",
    "\n",
    "   ```\n",
    "     [ 'idBike', 'fleet', 'trip_minutes', 'geolocation_unlock', 'address_unlock', 'unlock_date', 'locktype',\n",
    "     'unlocktype', 'geolocation_lock', 'address_lock', 'lock_date', 'station_unlock', 'unlock_station_name',\n",
    "     'station_lock', 'lock_station_name']\n",
    "   ```\n",
    "\n",
    "por lo que el dataframe ha de tener solo dichas columnas.\n",
    "\n",
    "__Observaciones:__ Observa que los datos de usos que publica la EMT son fichero CSV donde el separador de campos es el símbolo `;`."
   ]
  },
  {
   "cell_type": "code",
   "execution_count": 12,
   "id": "a1ddeeda3629a528",
   "metadata": {
    "collapsed": false,
    "jupyter": {
     "outputs_hidden": false
    }
   },
   "outputs": [],
   "source": [
    "# Solución:\n",
    "def get_data(csv: io.StringIO) -> pd.DataFrame:\n",
    "    \"\"\"\n",
    "    Función que dados los datos contenidos en un CSV devuelve un objeto pandas.DataFrame con los datos formateados debidamente\n",
    "    :param csv: stream de lectura de los datos contenidos en el CSV\n",
    "    :return: objeto pandas.DatFrame con los datos con fechas en el tipo de dato debido e índice fecha\n",
    "    \"\"\"\n",
    "    data_df = pd.read_csv(csv, sep=';', index_col='fecha', parse_dates=['fecha', 'unlock_date', 'lock_date'])\n",
    "\n",
    "    return data_df"
   ]
  },
  {
   "cell_type": "code",
   "execution_count": 28,
   "id": "4c52873f41e2a233",
   "metadata": {
    "collapsed": false,
    "jupyter": {
     "outputs_hidden": false
    }
   },
   "outputs": [
    {
     "name": "stdout",
     "output_type": "stream",
     "text": [
      "El índice del DataFrame es: fecha\n",
      "Los tipos de dato de las columnas de fechas son: datetime64[ns],datetime64[ns], datetime64[ns]\n",
      "Y las columnas son: ['idBike' 'fleet' 'trip_minutes' 'geolocation_unlock' 'address_unlock'\n",
      " 'unlock_date' 'locktype' 'unlocktype' 'geolocation_lock' 'address_lock'\n",
      " 'lock_date' 'station_unlock' 'dock_unlock' 'unlock_station_name'\n",
      " 'station_lock' 'dock_lock' 'lock_station_name']\n"
     ]
    }
   ],
   "source": [
    "# Prueba\n",
    "csvfile = csv_from_zip(url)\n",
    "usos = get_data(csvfile)\n",
    "usos.head()\n",
    "print(f'El índice del DataFrame es: {usos.index.name}')\n",
    "print(f'Los tipos de dato de las columnas de fechas son: {usos.index.dtype},{usos.unlock_date.dtype}, {usos.lock_date.dtype}')\n",
    "print(f'Y las columnas son: {usos.columns.values}')"
   ]
  },
  {
   "cell_type": "markdown",
   "id": "a3f2605a4417997d",
   "metadata": {
    "collapsed": false,
    "jupyter": {
     "outputs_hidden": false
    }
   },
   "source": [
    "### Explorar la estructura de los datos en el dataframe\n",
    "\n",
    "El método `info` devuelve información acerca de la estructura de un dataframe.\n",
    "\n",
    "__Se pide:__\n",
    "Escribe el código necesario para crear un dataframe llamado `usos` a partir de la url \"https://opendata.emtmadrid.es/getattachment/7a88cb04-9007-4520-88c5-a94c71a0b925/trips_23_02_February-csv.aspx\".\n",
    "Ejecuta el método `info()` sobre el dataframe y comenta los resultados.\n",
    "Fíjate en las columnas que representan fechas y comprueba su tipo de datos. ¿Cuántas filas se han cargado?. Fíjate en los valores distintos de `NaN` en cada una de las columnas."
   ]
  },
  {
   "cell_type": "code",
   "execution_count": 47,
   "id": "d0be5c61856b4f16",
   "metadata": {
    "collapsed": false,
    "jupyter": {
     "outputs_hidden": false
    }
   },
   "outputs": [
    {
     "name": "stdout",
     "output_type": "stream",
     "text": [
      "<class 'pandas.core.frame.DataFrame'>\n",
      "DatetimeIndex: 336988 entries, NaT to 2023-02-18\n",
      "Data columns (total 17 columns):\n",
      " #   Column               Non-Null Count   Dtype         \n",
      "---  ------               --------------   -----         \n",
      " 0   idBike               168494 non-null  float64       \n",
      " 1   fleet                168494 non-null  float64       \n",
      " 2   trip_minutes         168494 non-null  float64       \n",
      " 3   geolocation_unlock   168494 non-null  object        \n",
      " 4   address_unlock       168494 non-null  object        \n",
      " 5   unlock_date          168494 non-null  datetime64[ns]\n",
      " 6   locktype             168494 non-null  object        \n",
      " 7   unlocktype           168494 non-null  object        \n",
      " 8   geolocation_lock     168494 non-null  object        \n",
      " 9   address_lock         168494 non-null  object        \n",
      " 10  lock_date            168494 non-null  datetime64[ns]\n",
      " 11  station_unlock       168114 non-null  float64       \n",
      " 12  dock_unlock          168114 non-null  float64       \n",
      " 13  unlock_station_name  168114 non-null  object        \n",
      " 14  station_lock         168018 non-null  float64       \n",
      " 15  dock_lock            168018 non-null  float64       \n",
      " 16  lock_station_name    168018 non-null  object        \n",
      "dtypes: datetime64[ns](2), float64(7), object(8)\n",
      "memory usage: 46.3+ MB\n",
      "\n",
      "El número de columnas cargadas en el DataFrame (incluyendo índice) es: 18\n",
      "El tipo de dato de las columnas de fecha es: \"fecha\"->datetime64[ns] \"unlock_date\"->datetime64[ns] \"lock_date\"->datetime64[ns]\n",
      "El número de filas cargadas en el DataFrame (incluyendo índice) es: 336988\n",
      "El número de valores NaN en las columnas es:\n",
      "idBike                 168494\n",
      "fleet                  168494\n",
      "trip_minutes           168494\n",
      "geolocation_unlock     168494\n",
      "address_unlock         168494\n",
      "unlock_date            168494\n",
      "locktype               168494\n",
      "unlocktype             168494\n",
      "geolocation_lock       168494\n",
      "address_lock           168494\n",
      "lock_date              168494\n",
      "station_unlock         168874\n",
      "dock_unlock            168874\n",
      "unlock_station_name    168874\n",
      "station_lock           168970\n",
      "dock_lock              168970\n",
      "lock_station_name      168970\n",
      "dtype: int64\n"
     ]
    }
   ],
   "source": [
    "# Solución:\n",
    "url_csv = csv_from_zip(url)\n",
    "usos = get_data(url_csv)\n",
    "usos.info()\n",
    "\n",
    "print('\\n' + f'El número de columnas cargadas en el DataFrame (incluyendo índice) es: {usos.shape[1] + usos.index.nlevels}')\n",
    "print(f'El tipo de dato de las columnas de fecha es: \"fecha\"->{usos.index.dtype} \"unlock_date\"->{usos.unlock_date.dtype} \"lock_date\"->{usos.lock_date.dtype}')\n",
    "print(f'El número de filas cargadas en el DataFrame (incluyendo índice) es: {len(usos.index)}')\n",
    "print('El número de valores NaN en las columnas es:\\n' + f'{usos.isna().sum()}')"
   ]
  },
  {
   "cell_type": "markdown",
   "id": "480bef361a41a1ce",
   "metadata": {
    "collapsed": false,
    "jupyter": {
     "outputs_hidden": false
    }
   },
   "source": [
    "### Borrado de valores NaN.\n",
    "\n",
    "El método  `dropna` de los DataFrames tiene un argumento `how` que permite indicar que se borren filas o columnas donde todos los valores son `NaN`.\n",
    "\n",
    "__Se pide:__ Crear una función llamada `delete_nan_rows` que borre las filas con todos sus valores `NaN` de un dataframe recibido como argumento. La función modifica el dataframe y no devuelve nada.  \n",
    "\n",
    "Comenta los resultados. Prueba la función `delete_nan_rows` con el dataframe `usos`. Comprueba que el número de filas del dataframe `usos` ha cambiado. Puedes volver a ejecutar el método `info` y compáralo con el resultado antes de invocar a la función `delete_nan_rows`."
   ]
  },
  {
   "cell_type": "code",
   "execution_count": 49,
   "id": "642ce29ec8337f6e",
   "metadata": {
    "collapsed": false,
    "jupyter": {
     "outputs_hidden": false
    }
   },
   "outputs": [],
   "source": [
    "# Solución:\n",
    "def delete_nan_rows(df: pd.DataFrame) -> None:\n",
    "    \"\"\"\n",
    "    Función para eliminar todos los registros de un pandas.DataFrame que tengan todos sus valores NaN\n",
    "    :param df: objeto pandas.DataFrame de entrada\n",
    "    :return: no hay salida, el objeto pandas.DataFrame de entrada es directamente modificado eliminando registros NaN\n",
    "    \"\"\"\n",
    "    df.dropna(axis=0, how='all', inplace=True)"
   ]
  },
  {
   "cell_type": "code",
   "execution_count": 51,
   "id": "80c28542aa6de4fe",
   "metadata": {
    "collapsed": false,
    "jupyter": {
     "outputs_hidden": false
    }
   },
   "outputs": [
    {
     "name": "stdout",
     "output_type": "stream",
     "text": [
      "<class 'pandas.core.frame.DataFrame'>\n",
      "DatetimeIndex: 168494 entries, 2023-02-01 to 2023-02-18\n",
      "Data columns (total 17 columns):\n",
      " #   Column               Non-Null Count   Dtype         \n",
      "---  ------               --------------   -----         \n",
      " 0   idBike               168494 non-null  float64       \n",
      " 1   fleet                168494 non-null  float64       \n",
      " 2   trip_minutes         168494 non-null  float64       \n",
      " 3   geolocation_unlock   168494 non-null  object        \n",
      " 4   address_unlock       168494 non-null  object        \n",
      " 5   unlock_date          168494 non-null  datetime64[ns]\n",
      " 6   locktype             168494 non-null  object        \n",
      " 7   unlocktype           168494 non-null  object        \n",
      " 8   geolocation_lock     168494 non-null  object        \n",
      " 9   address_lock         168494 non-null  object        \n",
      " 10  lock_date            168494 non-null  datetime64[ns]\n",
      " 11  station_unlock       168114 non-null  float64       \n",
      " 12  dock_unlock          168114 non-null  float64       \n",
      " 13  unlock_station_name  168114 non-null  object        \n",
      " 14  station_lock         168018 non-null  float64       \n",
      " 15  dock_lock            168018 non-null  float64       \n",
      " 16  lock_station_name    168018 non-null  object        \n",
      "dtypes: datetime64[ns](2), float64(7), object(8)\n",
      "memory usage: 23.1+ MB\n",
      "\n",
      "El número de valores NaN en las columnas es:\n",
      "idBike                   0\n",
      "fleet                    0\n",
      "trip_minutes             0\n",
      "geolocation_unlock       0\n",
      "address_unlock           0\n",
      "unlock_date              0\n",
      "locktype                 0\n",
      "unlocktype               0\n",
      "geolocation_lock         0\n",
      "address_lock             0\n",
      "lock_date                0\n",
      "station_unlock         380\n",
      "dock_unlock            380\n",
      "unlock_station_name    380\n",
      "station_lock           476\n",
      "dock_lock              476\n",
      "lock_station_name      476\n",
      "dtype: int64\n"
     ]
    }
   ],
   "source": [
    "# Prueba\n",
    "url_csv = csv_from_zip(url)\n",
    "usos = get_data(url_csv)\n",
    "delete_nan_rows(usos)\n",
    "usos.info()\n",
    "\n",
    "print('\\nEl número de valores NaN en las columnas es:\\n' + f'{usos.isna().sum()}')"
   ]
  },
  {
   "cell_type": "markdown",
   "id": "f6ba39bdba7d3e10",
   "metadata": {
    "collapsed": false,
    "jupyter": {
     "outputs_hidden": false
    }
   },
   "source": [
    "###  Exploración de las columnas.\n",
    "\n",
    "La columna `fleet` representa el tipo de flota de bicicleta eléctrica.\n",
    "Las BiciMAD Go son free floating y se corresponden con tipo de flota 2. A diferencia de las BiciMAD normales, no tienen por qué dejarse en una estación de bicicletas, aunque existe la posibilidad de hacerlo. Su bloqueo se realiza por medio de un candado manual, aspecto en el que se diferencian de las otras bicis municipales.\n",
    "\n",
    "Por otro lado, las columnas `locktype` y `unlocktype` tienen información del tipo de bloqueo y desbloqueo respectivamente.\n",
    "\n",
    "__Se pide:__\n",
    "* ¿Cuántos valores distintos hay en la columna `fleet` del dataframe `usos`?\n",
    "* ¿Cuántos valores distintos hay en las columnas `locktype` y `unlocktype` del dataframe `usos`?"
   ]
  },
  {
   "cell_type": "code",
   "execution_count": 54,
   "id": "d0e083820025201a",
   "metadata": {
    "collapsed": false,
    "jupyter": {
     "outputs_hidden": false
    }
   },
   "outputs": [
    {
     "name": "stdout",
     "output_type": "stream",
     "text": [
      "El número de valores distintos de la columna fleet es: 2\n",
      "El número de valores distintos de la columna locktype es: 2\n",
      "El número de valores distintos de la columna unlocktype es: 2\n"
     ]
    }
   ],
   "source": [
    "# Solución:\n",
    "url_csv = csv_from_zip(url)\n",
    "usos = get_data(url_csv)\n",
    "delete_nan_rows(usos)\n",
    "\n",
    "valores_fleet = usos['fleet'].unique()           # Valores distintos de la columna fleet\n",
    "valores_locktype = usos['locktype'].unique()     # Valores distintos de la columna locktype\n",
    "valores_unlocktype = usos['unlocktype'].unique() # Valores distintos de la columna unlocktype\n",
    "\n",
    "print(f'El número de valores distintos de la columna fleet es: {len(valores_fleet)}')\n",
    "print(f'El número de valores distintos de la columna locktype es: {len(valores_locktype)}')\n",
    "print(f'El número de valores distintos de la columna unlocktype es: {len(valores_unlocktype)}')"
   ]
  },
  {
   "cell_type": "markdown",
   "id": "eac36d59f4031734",
   "metadata": {
    "collapsed": false,
    "jupyter": {
     "outputs_hidden": false
    }
   },
   "source": [
    "### Cambio de tipo de datos\n",
    "\n",
    "Las columnas  `idBike` y `fleet`  tienen tipo float, pero en realidad representan un identificador de bicicleta y de flota respectivamente.\n",
    "\n",
    "__Se pide:__ Crear una función llamada `float_to_str` que cambie el tipo de una columna a tipo string. La función recibe como argumentos un dataframe y el nombre de una columna. La función no devuelve nada.\n",
    "Si la columna no se encuentra entre las columnas del dataframe, la función no hace nada.\n",
    "\n",
    "__Observaciones:__ Puedes usar la función `map` para aplicar la función de transformación.\n",
    "\n",
    "Prueba la función con el datafame `usos` y  las columnas `idBike` y `fleet`.\n",
    "De esta forma, el identificador de bicicleta `7337.0` pasará a ser `'7337'`. Ejecuta la función `info` sobre el dataframe `usos` para comprobar que los tipos asociados a esas columnas han cambiado."
   ]
  },
  {
   "cell_type": "code",
   "execution_count": 56,
   "id": "ea224b237368170c",
   "metadata": {
    "collapsed": false,
    "jupyter": {
     "outputs_hidden": false
    }
   },
   "outputs": [],
   "source": [
    "# Solución:\n",
    "def float_to_str(df: pd.DataFrame, col:str) -> None:\n",
    "    \"\"\"\n",
    "    Función para que castea la columna suministrada a tipo string\n",
    "    :param df: objeto pandas.DataFrame contenedor de la columna a modificar\n",
    "    :param col: columna que se desea castear\n",
    "    :return: no hay salida, el parámetro df suministrado a la entrada es modificado adhoc\n",
    "    \"\"\"\n",
    "    df[col] = df[col].map(lambda x: str(x))"
   ]
  },
  {
   "cell_type": "code",
   "execution_count": 57,
   "id": "f323e62716aa7a7c",
   "metadata": {
    "collapsed": false,
    "jupyter": {
     "outputs_hidden": false
    }
   },
   "outputs": [
    {
     "name": "stdout",
     "output_type": "stream",
     "text": [
      "El tipo de datos de las columnas idBike y fleet antes del cambio son: float64 y float64 respectivamente\n",
      "El tipo de datos de las columnas idBike y fleet despues del cambio son: object y object respectivamente\n",
      "\n",
      "Recordemos que en pandas ya que los string pueden tener longitudes distintas el tipo de dato por defecto para strings es \"object\" para ajustarse a todas las longitudes.\n"
     ]
    }
   ],
   "source": [
    "# Prueba\n",
    "url_csv = csv_from_zip(url)\n",
    "usos = get_data(url_csv)\n",
    "print(f'El tipo de datos de las columnas idBike y fleet antes del cambio son: {usos.idBike.dtype} y {usos.fleet.dtype} respectivamente')\n",
    "\n",
    "float_to_str(usos, 'idBike')\n",
    "float_to_str(usos, 'fleet')\n",
    "print(f'El tipo de datos de las columnas idBike y fleet despues del cambio son: {usos.idBike.dtype} y {usos.fleet.dtype} respectivamente')\n",
    "print('\\nRecordemos que en pandas ya que los string pueden tener longitudes distintas el tipo de dato por defecto para strings es \"object\" para ajustarse a todas las longitudes.')"
   ]
  },
  {
   "cell_type": "markdown",
   "id": "a3614b394a320ac4",
   "metadata": {
    "collapsed": false,
    "jupyter": {
     "outputs_hidden": false
    }
   },
   "source": [
    "## Consultas\n",
    "\n",
    "Las siguientes consultas se realizarán con el dataframe `usos` creado en los apartados anteriores. Se han de hacer con los métodos del paquete BiciMad asi que volveré a importarlos y a definir el DataFrame usos, a pesar de que esto ya se haya hecho al principio."
   ]
  },
  {
   "cell_type": "markdown",
   "id": "385207c3be8a8cc4",
   "metadata": {
    "collapsed": false,
    "jupyter": {
     "outputs_hidden": false
    }
   },
   "source": [
    "### C1\n",
    "\n",
    "¿Cuántas bicicletas han sido desbloqueadas de una estación y no se bloquean en ninguna?"
   ]
  },
  {
   "cell_type": "code",
   "execution_count": 80,
   "id": "624993a2b7b5a16b",
   "metadata": {
    "collapsed": false,
    "jupyter": {
     "outputs_hidden": false
    }
   },
   "outputs": [],
   "source": [
    "# Solución:\n",
    "objeto_bici_mad_c1 = BiciMad(2, 23) # Objeto cuyo atributo data contendrá los datos de la EMT para Febrero de 2023\n",
    "objeto_bici_mad_c1.clean() # Limpiamos NaN de los datos del objeto BiciMad\n",
    "\n",
    "filtro_c1 = (objeto_bici_mad_c1.data['locktype'] == 'STATION') & (objeto_bici_mad_c1.data['unlocktype'] == 'FREE') # Filtro para obtener la información pedida\n",
    "objeto_bici_mad_c1.data.where(filtro_c1, inplace = True) # Convertimos en filas llenas de NaN los datos que no cumplen la condición dada\n",
    "objeto_bici_mad_c1.clean() #Volvemos a eliminar NaN, eliminando de esta forma los registros que no cumplen la condición"
   ]
  },
  {
   "cell_type": "code",
   "execution_count": 93,
   "id": "5f738f619bdfc593",
   "metadata": {
    "collapsed": false,
    "jupyter": {
     "outputs_hidden": false
    }
   },
   "outputs": [
    {
     "name": "stdout",
     "output_type": "stream",
     "text": [
      "El número de bicicletas que han sido desbloqueadas de una estación y no bloqueadas en ninguna al término del trayecto son: 72\n"
     ]
    }
   ],
   "source": [
    "# Prueba\n",
    "objeto_bici_mad_c1.data\n",
    "resultado = objeto_bici_mad_c1.data['fleet'].count()\n",
    "print(f'El número de bicicletas que han sido desbloqueadas de una estación y no bloqueadas en ninguna al término del trayecto son: {resultado}')"
   ]
  },
  {
   "cell_type": "markdown",
   "id": "842030238a1ad379",
   "metadata": {
    "collapsed": false,
    "jupyter": {
     "outputs_hidden": false
    }
   },
   "source": [
    "### C2\n",
    "\n",
    "Seleccionar solo las bicicletas del tipo de flota '1' . El nuevo dataframe se ha de llamar `regular_fleet`."
   ]
  },
  {
   "cell_type": "code",
   "execution_count": 124,
   "id": "4d4623f8f3077b32",
   "metadata": {
    "collapsed": false,
    "jupyter": {
     "outputs_hidden": false
    }
   },
   "outputs": [],
   "source": [
    "# Solución:\n",
    "objeto_bici_mad_c2 = BiciMad(2, 23) # Objeto cuyo atributo data contendrá los datos de la EMT para Febrero de 2023\n",
    "objeto_bici_mad_c2.clean() # Limpiamos NaN de los datos del objeto BiciMad\n",
    "\n",
    "#filtro_c2 = usos['fleet'] == '1.0' # Filtro para obtener la información pedida\n",
    "#objeto_bici_mad_c2.data.where(filtro_c2, inplace=True) # Convertimos en filas llenas de NaN los datos que no cumplen la condición dada\n",
    "#objeto_bici_mad_c2.clean() #Volvemos a eliminar NaN, eliminando de esta forma los registros que no cumplen la condición\n",
    "\n",
    "# La solución anterior es demasiado pesada para Jupyter, probaremos una alternativa:\n",
    "\n",
    "regular_fleet = objeto_bici_mad_c2.data.loc[objeto_bici_mad_c2.data['fleet'] == '1.0'] #DataFrame con los resultados"
   ]
  },
  {
   "cell_type": "code",
   "execution_count": 125,
   "id": "2a8d9f25b514388a",
   "metadata": {
    "collapsed": false,
    "jupyter": {
     "outputs_hidden": false
    }
   },
   "outputs": [
    {
     "data": {
      "text/html": [
       "<div>\n",
       "<style scoped>\n",
       "    .dataframe tbody tr th:only-of-type {\n",
       "        vertical-align: middle;\n",
       "    }\n",
       "\n",
       "    .dataframe tbody tr th {\n",
       "        vertical-align: top;\n",
       "    }\n",
       "\n",
       "    .dataframe thead th {\n",
       "        text-align: right;\n",
       "    }\n",
       "</style>\n",
       "<table border=\"1\" class=\"dataframe\">\n",
       "  <thead>\n",
       "    <tr style=\"text-align: right;\">\n",
       "      <th></th>\n",
       "      <th>idBike</th>\n",
       "      <th>fleet</th>\n",
       "      <th>trip_minutes</th>\n",
       "      <th>geolocation_unlock</th>\n",
       "      <th>address_unlock</th>\n",
       "      <th>unlock_date</th>\n",
       "      <th>locktype</th>\n",
       "      <th>unlocktype</th>\n",
       "      <th>geolocation_lock</th>\n",
       "      <th>address_lock</th>\n",
       "      <th>lock_date</th>\n",
       "      <th>station_unlock</th>\n",
       "      <th>unlock_station_name</th>\n",
       "      <th>station_lock</th>\n",
       "      <th>lock_station_name</th>\n",
       "    </tr>\n",
       "    <tr>\n",
       "      <th>fecha</th>\n",
       "      <th></th>\n",
       "      <th></th>\n",
       "      <th></th>\n",
       "      <th></th>\n",
       "      <th></th>\n",
       "      <th></th>\n",
       "      <th></th>\n",
       "      <th></th>\n",
       "      <th></th>\n",
       "      <th></th>\n",
       "      <th></th>\n",
       "      <th></th>\n",
       "      <th></th>\n",
       "      <th></th>\n",
       "      <th></th>\n",
       "    </tr>\n",
       "  </thead>\n",
       "  <tbody>\n",
       "    <tr>\n",
       "      <th>2023-02-01</th>\n",
       "      <td>7337.0</td>\n",
       "      <td>1.0</td>\n",
       "      <td>5.52</td>\n",
       "      <td>{'type': 'Point', 'coordinates': [-3.6956178, ...</td>\n",
       "      <td>'Calle Jesús nº 1'</td>\n",
       "      <td>2023-02-01 00:00:10</td>\n",
       "      <td>STATION</td>\n",
       "      <td>STATION</td>\n",
       "      <td>{'type': 'Point', 'coordinates': [-3.7088337, ...</td>\n",
       "      <td>'Plaza de la Cebada nº 16 '</td>\n",
       "      <td>2023-02-01 00:05:41</td>\n",
       "      <td>31.0</td>\n",
       "      <td>27 - Huertas</td>\n",
       "      <td>43.0</td>\n",
       "      <td>39 - Plaza de la Cebada</td>\n",
       "    </tr>\n",
       "    <tr>\n",
       "      <th>2023-02-01</th>\n",
       "      <td>5098.0</td>\n",
       "      <td>1.0</td>\n",
       "      <td>0.32</td>\n",
       "      <td>{'type': 'Point', 'coordinates': [-3.7022591, ...</td>\n",
       "      <td>'Glorieta de Embajadores nº 2'</td>\n",
       "      <td>2023-02-01 00:00:25</td>\n",
       "      <td>STATION</td>\n",
       "      <td>STATION</td>\n",
       "      <td>{'type': 'Point', 'coordinates': [-3.7022591, ...</td>\n",
       "      <td>'Glorieta de Embajadores nº 2'</td>\n",
       "      <td>2023-02-01 00:00:44</td>\n",
       "      <td>52.0</td>\n",
       "      <td>48 - Embajadores 2</td>\n",
       "      <td>52.0</td>\n",
       "      <td>48 - Embajadores 2</td>\n",
       "    </tr>\n",
       "    <tr>\n",
       "      <th>2023-02-01</th>\n",
       "      <td>6519.0</td>\n",
       "      <td>1.0</td>\n",
       "      <td>0.27</td>\n",
       "      <td>{'type': 'Point', 'coordinates': [-3.6894193, ...</td>\n",
       "      <td>'Calle Antonio Maura nº 15'</td>\n",
       "      <td>2023-02-01 00:00:36</td>\n",
       "      <td>STATION</td>\n",
       "      <td>STATION</td>\n",
       "      <td>{'type': 'Point', 'coordinates': [-3.6894193, ...</td>\n",
       "      <td>'Calle Antonio Maura nº 15'</td>\n",
       "      <td>2023-02-01 00:00:52</td>\n",
       "      <td>69.0</td>\n",
       "      <td>65 - Antonio Maura</td>\n",
       "      <td>69.0</td>\n",
       "      <td>65 - Antonio Maura</td>\n",
       "    </tr>\n",
       "    <tr>\n",
       "      <th>2023-02-01</th>\n",
       "      <td>2551.0</td>\n",
       "      <td>1.0</td>\n",
       "      <td>8.58</td>\n",
       "      <td>{'type': 'Point', 'coordinates': [-3.7022591, ...</td>\n",
       "      <td>'Glorieta de Embajadores nº 2'</td>\n",
       "      <td>2023-02-01 00:00:53</td>\n",
       "      <td>STATION</td>\n",
       "      <td>STATION</td>\n",
       "      <td>{'type': 'Point', 'coordinates': [-3.6991147, ...</td>\n",
       "      <td>'Calle Atocha nº 54'</td>\n",
       "      <td>2023-02-01 00:09:28</td>\n",
       "      <td>52.0</td>\n",
       "      <td>48 - Embajadores 2</td>\n",
       "      <td>45.0</td>\n",
       "      <td>41 - Antón Martín</td>\n",
       "    </tr>\n",
       "    <tr>\n",
       "      <th>2023-02-01</th>\n",
       "      <td>6519.0</td>\n",
       "      <td>1.0</td>\n",
       "      <td>0.20</td>\n",
       "      <td>{'type': 'Point', 'coordinates': [-3.6894193, ...</td>\n",
       "      <td>'Calle Antonio Maura nº 15'</td>\n",
       "      <td>2023-02-01 00:00:57</td>\n",
       "      <td>STATION</td>\n",
       "      <td>STATION</td>\n",
       "      <td>{'type': 'Point', 'coordinates': [-3.6894193, ...</td>\n",
       "      <td>'Calle Antonio Maura nº 15'</td>\n",
       "      <td>2023-02-01 00:01:09</td>\n",
       "      <td>69.0</td>\n",
       "      <td>65 - Antonio Maura</td>\n",
       "      <td>69.0</td>\n",
       "      <td>65 - Antonio Maura</td>\n",
       "    </tr>\n",
       "    <tr>\n",
       "      <th>...</th>\n",
       "      <td>...</td>\n",
       "      <td>...</td>\n",
       "      <td>...</td>\n",
       "      <td>...</td>\n",
       "      <td>...</td>\n",
       "      <td>...</td>\n",
       "      <td>...</td>\n",
       "      <td>...</td>\n",
       "      <td>...</td>\n",
       "      <td>...</td>\n",
       "      <td>...</td>\n",
       "      <td>...</td>\n",
       "      <td>...</td>\n",
       "      <td>...</td>\n",
       "      <td>...</td>\n",
       "    </tr>\n",
       "    <tr>\n",
       "      <th>2023-02-18</th>\n",
       "      <td>7492.0</td>\n",
       "      <td>1.0</td>\n",
       "      <td>1.33</td>\n",
       "      <td>{'type': 'Point', 'coordinates': [-3.7065376, ...</td>\n",
       "      <td>'Calle Jacometrezo nº 3'</td>\n",
       "      <td>2023-02-18 04:25:31</td>\n",
       "      <td>STATION</td>\n",
       "      <td>STATION</td>\n",
       "      <td>{'type': 'Point', 'coordinates': [-3.7065376, ...</td>\n",
       "      <td>'Calle Jacometrezo nº 3'</td>\n",
       "      <td>2023-02-18 04:26:51</td>\n",
       "      <td>25.0</td>\n",
       "      <td>22 - Jacometrezo</td>\n",
       "      <td>25.0</td>\n",
       "      <td>22 - Jacometrezo</td>\n",
       "    </tr>\n",
       "    <tr>\n",
       "      <th>2023-02-18</th>\n",
       "      <td>5538.0</td>\n",
       "      <td>1.0</td>\n",
       "      <td>9.48</td>\n",
       "      <td>{'type': 'Point', 'coordinates': [-3.7065376, ...</td>\n",
       "      <td>'Calle Jacometrezo nº 3'</td>\n",
       "      <td>2023-02-18 04:27:30</td>\n",
       "      <td>STATION</td>\n",
       "      <td>STATION</td>\n",
       "      <td>{'type': 'Point', 'coordinates': [-3.7074453, ...</td>\n",
       "      <td>'Calle San Vicente Ferrer nº 64'</td>\n",
       "      <td>2023-02-18 04:36:59</td>\n",
       "      <td>25.0</td>\n",
       "      <td>22 - Jacometrezo</td>\n",
       "      <td>16.0</td>\n",
       "      <td>15 - San Vicente Ferrer</td>\n",
       "    </tr>\n",
       "    <tr>\n",
       "      <th>2023-02-18</th>\n",
       "      <td>6473.0</td>\n",
       "      <td>1.0</td>\n",
       "      <td>0.47</td>\n",
       "      <td>{'type': 'Point', 'coordinates': [-3.6726019, ...</td>\n",
       "      <td>'Calle Doctor Esquerdo nº 191'</td>\n",
       "      <td>2023-02-18 04:39:38</td>\n",
       "      <td>STATION</td>\n",
       "      <td>STATION</td>\n",
       "      <td>{'type': 'Point', 'coordinates': [-3.6726019, ...</td>\n",
       "      <td>'Calle Doctor Esquerdo nº 191'</td>\n",
       "      <td>2023-02-18 04:40:06</td>\n",
       "      <td>89.0</td>\n",
       "      <td>84 - Valderribas</td>\n",
       "      <td>89.0</td>\n",
       "      <td>84 - Valderribas</td>\n",
       "    </tr>\n",
       "    <tr>\n",
       "      <th>2023-02-18</th>\n",
       "      <td>5252.0</td>\n",
       "      <td>1.0</td>\n",
       "      <td>7.43</td>\n",
       "      <td>{'type': 'Point', 'coordinates': [-3.690358964...</td>\n",
       "      <td>'Calle Sodio nº 1B'</td>\n",
       "      <td>2023-02-18 04:42:50</td>\n",
       "      <td>STATION</td>\n",
       "      <td>STATION</td>\n",
       "      <td>{'type': 'Point', 'coordinates': [-3.7064516, ...</td>\n",
       "      <td>'Paseo de la Esperanza nº 2'</td>\n",
       "      <td>2023-02-18 04:50:16</td>\n",
       "      <td>243.0</td>\n",
       "      <td>235 - Embajadores 191</td>\n",
       "      <td>134.0</td>\n",
       "      <td>163 - Paseo de la Esperanza</td>\n",
       "    </tr>\n",
       "    <tr>\n",
       "      <th>2023-02-18</th>\n",
       "      <td>3077.0</td>\n",
       "      <td>1.0</td>\n",
       "      <td>0.12</td>\n",
       "      <td>{'type': 'Point', 'coordinates': [-3.6933498, ...</td>\n",
       "      <td>'Plaza Cibeles'</td>\n",
       "      <td>2023-02-18 07:22:48</td>\n",
       "      <td>STATION</td>\n",
       "      <td>STATION</td>\n",
       "      <td>{'type': 'Point', 'coordinates': [-3.6933498, ...</td>\n",
       "      <td>'Plaza Cibeles'</td>\n",
       "      <td>2023-02-18 07:22:55</td>\n",
       "      <td>91.0</td>\n",
       "      <td>86 - Cibeles</td>\n",
       "      <td>91.0</td>\n",
       "      <td>86 - Cibeles</td>\n",
       "    </tr>\n",
       "  </tbody>\n",
       "</table>\n",
       "<p>167692 rows × 15 columns</p>\n",
       "</div>"
      ],
      "text/plain": [
       "            idBike fleet  trip_minutes  \\\n",
       "fecha                                    \n",
       "2023-02-01  7337.0   1.0          5.52   \n",
       "2023-02-01  5098.0   1.0          0.32   \n",
       "2023-02-01  6519.0   1.0          0.27   \n",
       "2023-02-01  2551.0   1.0          8.58   \n",
       "2023-02-01  6519.0   1.0          0.20   \n",
       "...            ...   ...           ...   \n",
       "2023-02-18  7492.0   1.0          1.33   \n",
       "2023-02-18  5538.0   1.0          9.48   \n",
       "2023-02-18  6473.0   1.0          0.47   \n",
       "2023-02-18  5252.0   1.0          7.43   \n",
       "2023-02-18  3077.0   1.0          0.12   \n",
       "\n",
       "                                           geolocation_unlock  \\\n",
       "fecha                                                           \n",
       "2023-02-01  {'type': 'Point', 'coordinates': [-3.6956178, ...   \n",
       "2023-02-01  {'type': 'Point', 'coordinates': [-3.7022591, ...   \n",
       "2023-02-01  {'type': 'Point', 'coordinates': [-3.6894193, ...   \n",
       "2023-02-01  {'type': 'Point', 'coordinates': [-3.7022591, ...   \n",
       "2023-02-01  {'type': 'Point', 'coordinates': [-3.6894193, ...   \n",
       "...                                                       ...   \n",
       "2023-02-18  {'type': 'Point', 'coordinates': [-3.7065376, ...   \n",
       "2023-02-18  {'type': 'Point', 'coordinates': [-3.7065376, ...   \n",
       "2023-02-18  {'type': 'Point', 'coordinates': [-3.6726019, ...   \n",
       "2023-02-18  {'type': 'Point', 'coordinates': [-3.690358964...   \n",
       "2023-02-18  {'type': 'Point', 'coordinates': [-3.6933498, ...   \n",
       "\n",
       "                            address_unlock         unlock_date locktype  \\\n",
       "fecha                                                                     \n",
       "2023-02-01              'Calle Jesús nº 1' 2023-02-01 00:00:10  STATION   \n",
       "2023-02-01  'Glorieta de Embajadores nº 2' 2023-02-01 00:00:25  STATION   \n",
       "2023-02-01     'Calle Antonio Maura nº 15' 2023-02-01 00:00:36  STATION   \n",
       "2023-02-01  'Glorieta de Embajadores nº 2' 2023-02-01 00:00:53  STATION   \n",
       "2023-02-01     'Calle Antonio Maura nº 15' 2023-02-01 00:00:57  STATION   \n",
       "...                                    ...                 ...      ...   \n",
       "2023-02-18        'Calle Jacometrezo nº 3' 2023-02-18 04:25:31  STATION   \n",
       "2023-02-18        'Calle Jacometrezo nº 3' 2023-02-18 04:27:30  STATION   \n",
       "2023-02-18  'Calle Doctor Esquerdo nº 191' 2023-02-18 04:39:38  STATION   \n",
       "2023-02-18             'Calle Sodio nº 1B' 2023-02-18 04:42:50  STATION   \n",
       "2023-02-18                 'Plaza Cibeles' 2023-02-18 07:22:48  STATION   \n",
       "\n",
       "           unlocktype                                   geolocation_lock  \\\n",
       "fecha                                                                      \n",
       "2023-02-01    STATION  {'type': 'Point', 'coordinates': [-3.7088337, ...   \n",
       "2023-02-01    STATION  {'type': 'Point', 'coordinates': [-3.7022591, ...   \n",
       "2023-02-01    STATION  {'type': 'Point', 'coordinates': [-3.6894193, ...   \n",
       "2023-02-01    STATION  {'type': 'Point', 'coordinates': [-3.6991147, ...   \n",
       "2023-02-01    STATION  {'type': 'Point', 'coordinates': [-3.6894193, ...   \n",
       "...               ...                                                ...   \n",
       "2023-02-18    STATION  {'type': 'Point', 'coordinates': [-3.7065376, ...   \n",
       "2023-02-18    STATION  {'type': 'Point', 'coordinates': [-3.7074453, ...   \n",
       "2023-02-18    STATION  {'type': 'Point', 'coordinates': [-3.6726019, ...   \n",
       "2023-02-18    STATION  {'type': 'Point', 'coordinates': [-3.7064516, ...   \n",
       "2023-02-18    STATION  {'type': 'Point', 'coordinates': [-3.6933498, ...   \n",
       "\n",
       "                                address_lock           lock_date  \\\n",
       "fecha                                                              \n",
       "2023-02-01       'Plaza de la Cebada nº 16 ' 2023-02-01 00:05:41   \n",
       "2023-02-01    'Glorieta de Embajadores nº 2' 2023-02-01 00:00:44   \n",
       "2023-02-01       'Calle Antonio Maura nº 15' 2023-02-01 00:00:52   \n",
       "2023-02-01              'Calle Atocha nº 54' 2023-02-01 00:09:28   \n",
       "2023-02-01       'Calle Antonio Maura nº 15' 2023-02-01 00:01:09   \n",
       "...                                      ...                 ...   \n",
       "2023-02-18          'Calle Jacometrezo nº 3' 2023-02-18 04:26:51   \n",
       "2023-02-18  'Calle San Vicente Ferrer nº 64' 2023-02-18 04:36:59   \n",
       "2023-02-18    'Calle Doctor Esquerdo nº 191' 2023-02-18 04:40:06   \n",
       "2023-02-18      'Paseo de la Esperanza nº 2' 2023-02-18 04:50:16   \n",
       "2023-02-18                   'Plaza Cibeles' 2023-02-18 07:22:55   \n",
       "\n",
       "           station_unlock    unlock_station_name station_lock  \\\n",
       "fecha                                                           \n",
       "2023-02-01           31.0           27 - Huertas         43.0   \n",
       "2023-02-01           52.0     48 - Embajadores 2         52.0   \n",
       "2023-02-01           69.0     65 - Antonio Maura         69.0   \n",
       "2023-02-01           52.0     48 - Embajadores 2         45.0   \n",
       "2023-02-01           69.0     65 - Antonio Maura         69.0   \n",
       "...                   ...                    ...          ...   \n",
       "2023-02-18           25.0       22 - Jacometrezo         25.0   \n",
       "2023-02-18           25.0       22 - Jacometrezo         16.0   \n",
       "2023-02-18           89.0       84 - Valderribas         89.0   \n",
       "2023-02-18          243.0  235 - Embajadores 191        134.0   \n",
       "2023-02-18           91.0           86 - Cibeles         91.0   \n",
       "\n",
       "                      lock_station_name  \n",
       "fecha                                    \n",
       "2023-02-01      39 - Plaza de la Cebada  \n",
       "2023-02-01           48 - Embajadores 2  \n",
       "2023-02-01           65 - Antonio Maura  \n",
       "2023-02-01            41 - Antón Martín  \n",
       "2023-02-01           65 - Antonio Maura  \n",
       "...                                 ...  \n",
       "2023-02-18             22 - Jacometrezo  \n",
       "2023-02-18      15 - San Vicente Ferrer  \n",
       "2023-02-18             84 - Valderribas  \n",
       "2023-02-18  163 - Paseo de la Esperanza  \n",
       "2023-02-18                 86 - Cibeles  \n",
       "\n",
       "[167692 rows x 15 columns]"
      ]
     },
     "execution_count": 125,
     "metadata": {},
     "output_type": "execute_result"
    }
   ],
   "source": [
    "# Prueba:\n",
    "regular_fleet"
   ]
  },
  {
   "cell_type": "markdown",
   "id": "31af45f5ebf9a29e",
   "metadata": {
    "collapsed": false,
    "jupyter": {
     "outputs_hidden": false
    }
   },
   "source": [
    "### C3\n",
    "\n",
    "Crea una función llamada `day_time` para calcular las horas totales de uso de bicicletas por día del mes.\n",
    "La función recibe un dataframe y devuelve una Serie donde el índice es la fecha y el valor es el número de horas.\n",
    "\n",
    "Prueba la función anterior con el dataframe  `usos`.\n",
    "\n",
    "__Opcional:__ Dibuja un diagrama de barras con el resultado de la función `day_time` sobre el dataframe `usos`. Utiliza el módulo `matplotlib.pyplot`."
   ]
  },
  {
   "cell_type": "code",
   "execution_count": 96,
   "id": "29d9959c437a4218",
   "metadata": {
    "collapsed": false,
    "jupyter": {
     "outputs_hidden": false
    }
   },
   "outputs": [
    {
     "name": "stderr",
     "output_type": "stream",
     "text": [
      "C:\\Users\\germa\\AppData\\Local\\Temp\\ipykernel_3808\\817627842.py:12: FutureWarning: The behavior of array concatenation with empty entries is deprecated. In a future version, this will no longer exclude empty items when determining the result dtype. To retain the old behavior, exclude the empty entries before the concat operation.\n",
      "  trips_per_day= pd.concat([trips_per_day, trips_day])\n"
     ]
    }
   ],
   "source": [
    "# Solución:\n",
    "def day_time(df: pd.DataFrame) -> pd.Series:\n",
    "    \"\"\"\n",
    "    Función para calcular el uso en horas de bicicletas por día del mes\n",
    "    :param df: objeto pandas.DataFrame con los datos de uso de la EMT por mes\n",
    "    :return: objeto pandas.Series con el día y número de horas de uso de las bicicletas\n",
    "    \"\"\"\n",
    "    data_dates = df.index.unique()\n",
    "    trips_per_day = pd.Series()\n",
    "    for date in data_dates:\n",
    "        trips_day = pd.Series(df[df.index == date]['trip_minutes'].sum()/60, index=[date])\n",
    "        trips_per_day= pd.concat([trips_per_day, trips_day])\n",
    "    return trips_per_day\n",
    "\n",
    "objeto_bici_mad_c3 = BiciMad(2, 23) # Objeto cuyo atributo data contendrá los datos de la EMT para Febrero de 2023\n",
    "objeto_bici_mad_c3.clean() # Limpiamos NaN de los datos del objeto BiciMad\n",
    "\n",
    "use_hours_date = day_time(objeto_bici_mad_c3.data) #Aplicamos la función al conjunto de datos del objeto BiciMad"
   ]
  },
  {
   "cell_type": "code",
   "execution_count": 97,
   "id": "dffa4fe56860bc1e",
   "metadata": {
    "collapsed": false,
    "jupyter": {
     "outputs_hidden": false
    }
   },
   "outputs": [
    {
     "data": {
      "image/png": "[encoded data removed]",
      "text/plain": [
       "<Figure size 640x480 with 1 Axes>"
      ]
     },
     "metadata": {},
     "output_type": "display_data"
    }
   ],
   "source": [
    "# Prueba:\n",
    "use_hours_date.plot.bar()\n",
    "plt.show()"
   ]
  },
  {
   "cell_type": "markdown",
   "id": "35352c149032ef",
   "metadata": {
    "collapsed": false,
    "jupyter": {
     "outputs_hidden": false
    }
   },
   "source": [
    "### C4\n",
    "\n",
    "Crea una función llamada `weekday_time` para calcular las horas totales de uso de bicicletas por día de la semana. La función recibe un dataframe y devuelve una Serie donde el índice es el día de la semana (L, M, X, J, V, S, D) y el valor es el número de horas.\n",
    "\n",
    "Prueba la función anterior con el dataframe usos.\n",
    "\n"
   ]
  },
  {
   "cell_type": "code",
   "execution_count": 98,
   "id": "56f566e769359ad1",
   "metadata": {
    "collapsed": false,
    "jupyter": {
     "outputs_hidden": false
    }
   },
   "outputs": [
    {
     "name": "stderr",
     "output_type": "stream",
     "text": [
      "C:\\Users\\germa\\AppData\\Local\\Temp\\ipykernel_3808\\817627842.py:12: FutureWarning: The behavior of array concatenation with empty entries is deprecated. In a future version, this will no longer exclude empty items when determining the result dtype. To retain the old behavior, exclude the empty entries before the concat operation.\n",
      "  trips_per_day= pd.concat([trips_per_day, trips_day])\n"
     ]
    }
   ],
   "source": [
    "# Solución:\n",
    "def weekday_time(df: pd.DataFrame) -> pd.Series:\n",
    "    \"\"\"\n",
    "    Función para calcular el uso en horas de bicicletas según la EMT por día de la semana por mes\n",
    "    :param df: objeto pandas.DataFrame con los datos de uso de la EMT por mes\n",
    "    :return: objeto pandas.Series con el día y el número de uso en horas por día de la semana del mes\n",
    "    \"\"\"\n",
    "    trips_per_day = day_time(df)\n",
    "    trips_per_day_week = pd.Series(trips_per_day.values, index=trips_per_day.index.day_name())\n",
    "    aggr_trips_per_day_week = trips_per_day_week.groupby(level=0).sum()\n",
    "\n",
    "    return aggr_trips_per_day_week\n",
    "\n",
    "objeto_bici_mad_c4 = BiciMad(2, 23) # Objeto cuyo atributo data contendrá los datos de la EMT para Febrero de 2023\n",
    "objeto_bici_mad_c4.clean() # Limpiamos NaN de los datos del objeto BiciMad\n",
    "\n",
    "use_hours_weekday = weekday_time(objeto_bici_mad_c4.data) #Aplicamos la función al conjunto de datos del objeto BiciMad"
   ]
  },
  {
   "cell_type": "code",
   "execution_count": 99,
   "id": "d026ebeb323f13bd",
   "metadata": {
    "collapsed": false,
    "jupyter": {
     "outputs_hidden": false
    }
   },
   "outputs": [
    {
     "data": {
      "image/png": "[encoded data removed]",
      "text/plain": [
       "<Figure size 640x480 with 1 Axes>"
      ]
     },
     "metadata": {},
     "output_type": "display_data"
    }
   ],
   "source": [
    "# Prueba\n",
    "use_hours_weekday.plot.bar()\n",
    "plt.show()"
   ]
  },
  {
   "cell_type": "markdown",
   "id": "b9bd14a34ffc6dba",
   "metadata": {
    "collapsed": false,
    "jupyter": {
     "outputs_hidden": false
    }
   },
   "source": [
    "### C5\n",
    "\n",
    "Crea una función llamada `total_usage_day` para calcular el número total de usos de bicicletas por día del mes. La función recibe un dataframe y devuelve una Serie donde el índice es la fecha y el valor es el número de usos.\n",
    "\n",
    "Prueba la función anterior con el dataframe usos.\n",
    "\n"
   ]
  },
  {
   "cell_type": "code",
   "execution_count": 100,
   "id": "ddfd154020257dae",
   "metadata": {
    "collapsed": false,
    "jupyter": {
     "outputs_hidden": false
    }
   },
   "outputs": [],
   "source": [
    "# Solución:\n",
    "def total_usage_day(df: pd.DataFrame) -> pd.Series:\n",
    "    \"\"\"\n",
    "    Función para calcular el número de usos totales de bicicletas según la EMT por día del mes\n",
    "    :param df: objeto pandas.DataFrame con los datos de uso de la EMT por mes\n",
    "    :return: objeto pandas.Series con el día y el uso de las bicicletas por día de la semana del mes\n",
    "    \"\"\"\n",
    "    return df.groupby(pd.Grouper(freq='1D'))['fleet'].count()\n",
    "\n",
    "objeto_bici_mad_c5 = BiciMad(2, 23) # Objeto cuyo atributo data contendrá los datos de la EMT para Febrero de 2023\n",
    "objeto_bici_mad_c5.clean() # Limpiamos NaN de los datos del objeto BiciMad\n",
    "\n",
    "trips_date = total_usage_day(objeto_bici_mad_c5.data) #Aplicamos la función al conjunto de datos del objeto BiciMad\n"
   ]
  },
  {
   "cell_type": "code",
   "execution_count": 101,
   "id": "f288818e96be0236",
   "metadata": {
    "collapsed": false,
    "jupyter": {
     "outputs_hidden": false
    }
   },
   "outputs": [
    {
     "data": {
      "image/png": "[encoded data removed]",
      "text/plain": [
       "<Figure size 640x480 with 1 Axes>"
      ]
     },
     "metadata": {},
     "output_type": "display_data"
    }
   ],
   "source": [
    "# Prueba\n",
    "trips_date.plot.bar()\n",
    "plt.show()"
   ]
  },
  {
   "cell_type": "markdown",
   "id": "c590015a54362463",
   "metadata": {
    "collapsed": false,
    "jupyter": {
     "outputs_hidden": false
    }
   },
   "source": [
    "### C6\n",
    "\n",
    "Calcular el total de usos por fecha y estación de desbloqueo. Como la fecha está en el índice y la estación de desbloqueo es una columna, lo mejor es agrupar por la columna `station_unlock` y  un objeto `Grouper` de frecuencia diaria (1D).\n",
    "\n",
    "A continuación, se muestra un ejemplo del funcionamiento de la función Grouper de pandas:\n",
    "```\n",
    ">>> df\n",
    "             ID  Price\n",
    "2000-01-02   0     10\n",
    "2000-01-02   1     20\n",
    "2000-01-09   2     30\n",
    "2000-01-16   3     40\n",
    "\n",
    "# Grouper con frecuencia semanal (1W)\n",
    ">>> df.groupby(pd.Grouper(freq=\"1W\")).mean()\n",
    "               ID  Price\n",
    "\n",
    "2000-01-02    0.5   15.0\n",
    "2000-01-09    2.0   30.0\n",
    "2000-01-16    3.0   40.0\n",
    "```"
   ]
  },
  {
   "cell_type": "code",
   "execution_count": 102,
   "id": "c55bab5a51491b73",
   "metadata": {
    "collapsed": false,
    "jupyter": {
     "outputs_hidden": false
    }
   },
   "outputs": [],
   "source": [
    "# Solución:\n",
    "objeto_bici_mad_c6 = BiciMad(2, 23) # Objeto cuyo atributo data contendrá los datos de la EMT para Febrero de 2023\n",
    "objeto_bici_mad_c6.clean() # Limpiamos NaN de los datos del objeto BiciMad\n",
    "\n",
    "use_by_day_unlock_station = objeto_bici_mad_c6.data.groupby([pd.Grouper(freq='1D'),'station_unlock'])['fleet'].count().rename('total_trips')"
   ]
  },
  {
   "cell_type": "code",
   "execution_count": 103,
   "id": "f1e29f5a6225b596",
   "metadata": {
    "collapsed": false,
    "jupyter": {
     "outputs_hidden": false
    }
   },
   "outputs": [
    {
     "data": {
      "text/plain": [
       "fecha       station_unlock\n",
       "2023-02-01  1.0               31\n",
       "            10.0              33\n",
       "            100.0             31\n",
       "            101.0             23\n",
       "            102.0             57\n",
       "                              ..\n",
       "2023-02-18  95.0               3\n",
       "            96.0               1\n",
       "            97.0               2\n",
       "            99.0               1\n",
       "            nan                2\n",
       "Name: total_trips, Length: 4581, dtype: int64"
      ]
     },
     "execution_count": 103,
     "metadata": {},
     "output_type": "execute_result"
    }
   ],
   "source": [
    "# Prueba\n",
    "use_by_day_unlock_station"
   ]
  },
  {
   "cell_type": "markdown",
   "id": "a760e578f0d01694",
   "metadata": {
    "collapsed": false,
    "jupyter": {
     "outputs_hidden": false
    }
   },
   "source": [
    "### C7\n",
    "\n",
    "Se quiere averiguar la dirección de las estaciones de desbloqueo que a lo largo del mes han tenido un mayor número de viajes. Crear una función llamada `most_popular_stations` que calcule dicho dato. El argumento de la función es un dataframe y devuelve un conjunto con la dirección de las estaciones.\n",
    "\n"
   ]
  },
  {
   "cell_type": "code",
   "execution_count": 105,
   "id": "fc264945c5f806d1",
   "metadata": {
    "collapsed": false,
    "jupyter": {
     "outputs_hidden": false
    }
   },
   "outputs": [],
   "source": [
    "# Solución:\n",
    "# La explicación de la modificación en la salida de la función con respecto a lo pedido en el enunciado está en el apartado Prueba\n",
    "def most_popular_stations(df: pd.DataFrame) -> tuple[set, list]:\n",
    "    \"\"\"\n",
    "    Función para averiguar las estaciones de desbloqueo que han tenido mayor número de viajes a lo largo del mes\n",
    "    :param df: objeto pandas.DataFrame con los datos de uso de la EMT por mes\n",
    "    :return: conjunto de las estaciones más populares a lo largo del mes\n",
    "    \"\"\"\n",
    "    df_grouped_by_station_unlock = df.groupby(['station_unlock', 'address_unlock'])\n",
    "    count_trips_by_unlock_station = df_grouped_by_station_unlock['fleet'].count()\n",
    "    sorted_count = count_trips_by_unlock_station.sort_values(ascending=False)\n",
    "    set_addresses = set(sorted_count.index.get_level_values(1))\n",
    "    list_addresses = list(sorted_count.index.get_level_values(1))\n",
    "\n",
    "    return set_addresses, list_addresses\n",
    "\n",
    "objeto_bici_mad_c7 = BiciMad(2, 23) # Objeto cuyo atributo data contendrá los datos de la EMT para Febrero de 2023\n",
    "objeto_bici_mad_c7.clean() # Limpiamos NaN de los datos del objeto BiciMad\n",
    "\n",
    "sorted_desc_popular_unlock_stations_set, sorted_desc_popular_unlock_stations_list = most_popular_stations(objeto_bici_mad_c7.data)"
   ]
  },
  {
   "cell_type": "code",
   "execution_count": 107,
   "id": "92d9321a325fe347",
   "metadata": {
    "collapsed": false,
    "jupyter": {
     "outputs_hidden": false
    }
   },
   "outputs": [
    {
     "name": "stdout",
     "output_type": "stream",
     "text": [
      "El enunciado especifica que quiere que se devuelva un CONJUNTO, lo cual no tiene mucho sentido ya que los elementos de un objeto set se guardan aleatoriamente por lo que no se verá el orden de popularidad\n",
      "\n",
      "Siendo estrictos con la respuesta, esta es:\n",
      "{\"'Calle Virgen de la Alegría nº 18'\", \"'28043,ES,Madrid,Madrid,Calle de Arturo soria 155,Madrid'\", \"'Paseo de la Ermita del Santo nº 48'\", \"'Paseo de Moret nº 2'\", \"'Plaza de Felipe II'\", \"'Calle Méndez Álvaro nº 11'\", \"'Calle O'Donnell nº 50'\", \"'Plaza de Ramales'\", \"'Paseo de la Habana nº 42'\", \"'Calle Camino de los Vinateros nº 28'\", \"'28034,ES,Madrid,Madrid,Calle de Fermín caballero 61,Madrid'\", \"'Calle Santa Hortensia nº 31'\", \"'28003,ES,Madrid,Madrid,Calle de Alonso cano 44,Madrid'\", \"'Calle Santa Engracia nº 87'\", \"'Ronda de Atocha nº 34'\", \"'Calle Pío Baroja nº 10'\", \"'Paseo de la Infanta Isabel nº 3'\", \"'Calle Ribera de Curtidores nº 28'\", \"'28003,ES,Madrid,Madrid,Avenida de Filipinas 11,Madrid'\", \"'28013,ES,Madrid,Madrid,Calle del Maestro victoria 3,Madrid'\", \"'Calle Carlota O'Neill nº 32'\", \"'Plaza de Carlos Cambronero nº 2'\", \"'28008,ES,Madrid,Madrid,Calle de Santovenia 6,Madrid'\", \"'28033,ES,Madrid,Madrid,Calle de Piquer 1,Madrid'\", \"'28001,ES,Madrid,Madrid,Calle de Serrano 7,Madrid'\", \"'28004,ES,Madrid,Madrid,Plaza de Salesas 2,Madrid'\", \"'28007,ES,Madrid,Madrid,Calle de Piscis 2B,Madrid'\", \"'28015,ES,Madrid,Madrid,Calle de San bernardo 85,Madrid'\", \"'Calle Caramuel nº 51'\", \"'28036,ES,Madrid,Madrid,Calle del General lópez pozas 2,Madrid'\", \"'28039,ES,Madrid,Madrid,Calle de Artajona 21E,Madrid'\", \"'28030,ES,Madrid,Madrid,Calle del Alcalde garrido juaristi 2,Madrid'\", \"'28002,ES,Madrid,Madrid,Plaza de la República argentina 6,Madrid'\", \"'Calle Velázquez nº 130'\", \"'28050,ES,Madrid,Madrid,Calle de Ana de austria ,Madrid'\", \"'28014,ES,Madrid,Madrid,Paseo del Prado 1,Madrid'\", \"'28009,ES,Madrid,Madrid,Avenida de Menéndez pelayo 9,Madrid'\", \"'Calle Hortaleza nº 75'\", \"'Calle Miguel Moya nº 1'\", \"'Calle Alcalá nº 95'\", \"'28005,ES,Madrid,Madrid,Glorieta de la Puerta de toledo 6,Madrid'\", \"'28027,ES,Madrid,Madrid,Calle de Belice 38,Madrid'\", \"'28005,ES,Madrid,Madrid,Calle de Juan duque 45,Madrid'\", \"'Plaza de San Miguel nº 9'\", \"'28037,ES,Madrid,Madrid,Calle Albasánz 58,Madrid'\", \"'28008,ES,Madrid,Madrid,Calle de la Quintana 16,Madrid'\", \"'28039,ES,Madrid,Madrid,Calle de los Voluntarios catalanes 66A,Madrid'\", \"'28038,ES,Madrid,Madrid,Avenida de la Albufera 1,Madrid'\", \"'28039,ES,Madrid,Madrid,Calle del Marqués de viana 2,Madrid'\", \"'Calle General Ampudia nº 2'\", \"'28019,ES,Madrid,Madrid,Calle Antoñita jiménez 22,Madrid'\", \"'Paseo de Yeserías nº 45'\", \"'28015,ES,Madrid,Madrid,Calle de Magallanes 42,Madrid'\", \"'Calle Bolívar nº 3'\", \"'Calle Alejandro González nº 1'\", \"'28008,ES,Madrid,Madrid,Calle de Aniceto marinas 116,Madrid'\", \"'28030,ES,Madrid,Madrid,Avenida del Doctor garcía tapia 137,Madrid'\", \"'28007,ES,Madrid,Madrid,Avenida de la Ciudad de barcelona 115,Madrid'\", \"'Calle Ibiza nº 18'\", \"'28007,ES,Madrid,Madrid,Calle de Carlos y guillermo fernández shaw 1,Madrid'\", \"'28039,ES,Madrid,Madrid,Calle Jerónima llorente 74,Madrid'\", \"'Calle Fernando el Católico nº 61'\", \"'28027,ES,Madrid,Madrid,Calle de José del hierro ,Madrid'\", \"'Calle Arroyo del Olivar nº 6'\", \"'28034,ES,Madrid,Madrid,Calle de Antonio de cabezón 89,Madrid'\", \"'Calle Francos Rodríguez nº 62'\", \"'Plaza de Pedro Zerolo nº 1'\", \"'28017,ES,Madrid,Madrid,Calle de Félix rodríguez de la fuente 93,Madrid'\", \"'Glorieta de Embajadores nº 6'\", \"'Plaza de Santo Domingo nº 1'\", \"'Paseo Castellana (Fundación Canal)'\", \"'28055,ES,Madrid,Madrid,Calle de Jordi solé tura 20,Madrid'\", \"'28015,ES,Madrid,Madrid,Calle de San bernardo 87,Madrid'\", \"'28012,ES,Madrid,Madrid,Calle de Atocha 40,Madrid'\", \"'Avenida de Menéndez Pelayo con calle Poeta Esteban Villegas'\", \"'Paseo de la Castellana nº 216'\", \"'28019,ES,Madrid,Madrid,Calle de Algorta 33,Madrid'\", \"'28037,ES,Madrid,Madrid,Calle de Mieres 16,Madrid'\", \"'Calle Doctor Esquerdo nº 99'\", \"'28050,ES,Madrid,Madrid,Calle de Oña 105,Madrid'\", \"'Calle María de Guzmán nº 58'\", \"'Calle Embajadores nº 101'\", \"'Paseo Santa María de la Cabeza nº 29'\", \"'Calle Altamirano nº 24'\", \"'Calle Goya nº 1'\", \"'28032,ES,Madrid,Madrid,Carretera de Vicálvaro a la estac. o'donnell 11,Madrid'\", \"'28034,ES,Madrid,Madrid,Calle de Antonio de cabezón 85,Madrid'\", \"'28026,ES,Madrid,Madrid,Camino de Perales 236,Madrid'\", \"'28007,ES,Madrid,Madrid,Calle de Antonio casero 4,Madrid'\", \"'28007,ES,Madrid,Madrid,Plaza del Conde de casal 5,Madrid'\", \"'Calle Padre Indalecio Hernández nº 1'\", \"'28004,ES,Madrid,Madrid,Calle de Miguel moya 6,Madrid'\", \"'28004,ES,Madrid,Madrid,Calle de Orellana 27,Madrid'\", \"'Calle General Pardiñas nº 56'\", \"'28008,ES,Madrid,Madrid,Calle de Aniceto marinas 100,Madrid'\", \"'Plaza de Celenque nº 1'\", \"'Calle General López Pozas nº 2'\", \"'28003,ES,Madrid,Madrid,Calle de José abascal 2,Madrid'\", \"'28045,ES,Madrid,Madrid,Calle de Palos de la frontera 27,Madrid'\", \"'28002,ES,Madrid,Madrid,Plaza de la Prosperidad 2,Madrid'\", \"'Calle Carretas nº 8'\", \"'Calle Sor Ángela de la Cruz nº 2'\", \"'Calle Alonso Heredia nº 1'\", \"'Paseo de la Esperanza nº 2'\", \"'28019,ES,Madrid,Madrid, A-42 ,Madrid'\", \"'28007,ES,Madrid,Madrid,Calle Marqués de lozoya 29B,Madrid'\", \"'28026,ES,Madrid,Madrid, A-42 ,Madrid'\", \"'Paseo de las Delicias nº 92'\", \"'Calle Evaristo San Miguel nº 2'\", \"'28017,ES,Madrid,Madrid,Calle de Luis ruiz 58C,Madrid'\", \"'Avenida de Alfonso XII nº 54'\", \"'28037,ES,Madrid,Madrid,Calle de Mieres 13,Madrid'\", \"'28007,ES,Madrid,Madrid,Avenida de la Ciudad de barcelona 83,Madrid'\", \"'Calle Diego de León nº 52'\", \"'Calle Hortaleza nº 63'\", \"'28027,ES,Madrid,Madrid,Calle de Alcalá 550,Madrid'\", \"'Plaza de San Juan de la Cruz nº 11'\", \"'Calle Retama nº 5'\", \"'28005,ES,Madrid,Madrid,Paseo Imperial 31,Madrid'\", \"'28033,ES,Madrid,Madrid,Calle de Caleruega 68,Madrid'\", \"'Calle Jaime el Conquistador nº 30'\", \"'Calle Antonio Maura nº 15'\", \"'28019,ES,Madrid,Madrid,Calle de los Hermanos del moral 41,Madrid'\", \"'Avenida Pío XII nº 3'\", \"'Avenida Marqués de Corbera nº 12'\", \"'Avenida de Menéndez Pelayo nº 73'\", \"'28016,ES,Madrid,Madrid,Avenida de Pío xii 46,Madrid'\", \"'Calle Jorge Juan nº 131'\", \"'Glorieta de Quevedo nº 5'\", \"'28020,ES,Madrid,Madrid,Calle de Bravo murillo 181,Madrid'\", \"'28007,ES,Madrid,Madrid,Avenida de la Ciudad de barcelona 226,Madrid'\", \"'28046,ES,Madrid,Madrid,Paseo de la Castellana 194,Madrid'\", \"'28038,ES,Madrid,Madrid,Calle de Sicilia 54,Madrid'\", \"'Avenida de Camilo José Cela nº 23'\", \"'Calle Santa Engracia nº 168'\", \"'28046,ES,Madrid,Madrid,Calle de Agustín de foxá 31,Madrid'\", \"'28015,ES,Madrid,Madrid,Calle de San bernardo 89,Madrid'\", \"'28005,ES,Madrid,Madrid,Calle de la Arquitectura 11,Madrid'\", \"'28003,ES,Madrid,Madrid,Plaza de San juan de la cruz 11,Madrid'\", \"'28018,ES,Madrid,Madrid,Calle de Gerardo diego 9,Madrid'\", \"'28027,ES,Madrid,Madrid,Avenida de Badajoz 13,Madrid'\", \"'28050,ES,Madrid,Madrid,Avenida de Manoteras 46,Madrid'\", \"'28050,ES,Madrid,Madrid,Avenida de Manoteras 46B,Madrid'\", \"'Calle Suero de Quiñones nº 2'\", \"'Calle Serrano nº 54'\", \"'Paseo de la Castellana nº 43'\", \"'28050,ES,Madrid,Madrid,Calle del Príncipe carlos 34,Madrid'\", \"'Plaza del Conde del Valle de Súchil nº 3'\", \"'Calle Marqués de la Ensenada nº 16'\", \"'28003,ES,Madrid,Madrid,Calle de Ríos rosas 31,Madrid'\", \"'Calle Goya nº 99'\", \"'Calle Alcántara nº 2'\", \"'28029,ES,Madrid,Madrid,Avenida de Monforte de lemos 101,Madrid'\", \"'28016,ES,Madrid,Madrid,Calle de Colombia 8,Madrid'\", \"'28055,ES,Madrid,Madrid,Calle de Aurora redondo 4,Madrid'\", \"'28001,ES,Madrid,Madrid,Calle de Castelló 61,Madrid'\", \"'28006,ES,Madrid,Madrid,Calle de José ortega y gasset 94,Madrid'\", \"'28019,ES,Madrid,Madrid,Calle de Alejandro sánchez 87,Madrid'\", \"'Paseo de la Castellana esquina calle Raimundo Fernández Villaverde'\", \"'Glorieta de la Puerta de Toledo nº 1'\", \"'Calle Azucenas nº 1'\", \"'28012,ES,Madrid,Madrid,Calle del Olmo 15,Madrid'\", \"'28047,ES,Madrid,Madrid,Calle de Gregorio vacas 7,Madrid'\", \"'28053,ES,Madrid,Madrid,Calle de Antonia calas 2,Madrid'\", \"'Calle del General Álvarez de Castro nº 1'\", \"'Calle Navarra nº 1'\", \"'28009,ES,Madrid,Madrid,Paseo de Fernán núñez ,Madrid'\", \"'Avenida Marqués de Corbera nº 52'\", \"'28003,ES,Madrid,Madrid,Calle de Bravo murillo 55,Madrid'\", \"'Calle Ayala nº 102'\", \"'Calle Serrano nº 210'\", \"'28039,ES,Madrid,Madrid,Avenida del Doctor federico rubio y gali 25,Madrid'\", \"'Calle Doctor Santero nº 1'\", \"'Calle Colombia nº 7'\", \"'Calle Jesús nº 1'\", \"'28043,ES,Madrid,Madrid,Calle de Arturo soria 128,Madrid'\", \"'Calle José Abascal frente al nº 2'\", \"'28025,ES,Madrid,Madrid,Calle de la Laguna 95,Madrid'\", \"'28043,ES,Madrid,Madrid,Calle de Arturo soria 126,Madrid'\", \"'Avenida Bruselas nº 56'\", \"'28033,ES,Madrid,Madrid,Calle de Santa virgilia 19,Madrid'\", \"'28016,ES,Madrid,Madrid,Calle de Federico salmón 1,Madrid'\", \"'28030,ES,Madrid,Madrid,Plaza del Corregidor alonso de aguilar 5,Madrid'\", \"'Calle Beatriz de Bobadilla frente al nº 2'\", \"'28009,ES,Madrid,Madrid,Plaza Independencia ,Madrid'\", \"'28027,ES,Madrid,Madrid,Calle de Ángel larra 2,Madrid'\", \"'28009,ES,Madrid,Madrid,Calle de Fernán gonzález 30,Madrid'\", \"'28050,ES,Madrid,Madrid,Calle Palas de rey 16,Madrid'\", \"'Paseo Imperial nº 20'\", \"'28006,ES,Madrid,Madrid,Calle de Diego de león 49,Madrid'\", \"'28001,ES,Madrid,Madrid,Calle de Serrano 44B,Madrid'\", \"'Calle Francisco Silvela nº 86'\", \"'28037,ES,Madrid,Madrid,Calle Valentín beato 28,Madrid'\", \"'Calle Cea Bermúdez nº 59'\", \"'28045,ES,Madrid,Madrid,Calle de Bustamante 3,Madrid'\", \"'Paseo de Recoletos nº 20'\", \"'28010,ES,Madrid,Madrid,Calle de Covarrubias 5,Madrid'\", \"'Calle Sierra Toledana nº 33'\", \"'28011,ES,Madrid,Madrid,Calle de la Huerta de castañeda 30,Madrid'\", \"'Avenida de Concha Espina nº 34'\", \"'28044,ES,Madrid,Madrid,Calle del Haya 3A,Madrid'\", \"'28035,ES,Madrid,Madrid,Calle de Ramón gómez de la serna 2,Madrid'\", \"'28047,ES,Madrid,Madrid,Calle Cjal. francisco josé jiménez martín 28,Madrid'\", \"'Calle Jacometrezo nº 3'\", \"'28028,ES,Madrid,Madrid,Calle de Bocángel 1,Madrid'\", \"'28016,ES,Madrid,Madrid,Plaza de José maría soler 7,Madrid'\", \"'Glorieta Marqués de Vadillo nº 9'\", \"'Calle Tres Cruces nº 7'\", \"'Calle José Antonio Novais frente al nº 12'\", \"'28030,ES,Madrid,Madrid,Calle del Camino de los vinateros 161,Madrid'\", \"'Calle San Germán nº 5'\", \"'Calle Bravo Murillo nº 44'\", \"'28030,ES,Madrid,Madrid, V.c. cuña de o'donnell ,Madrid'\", \"'28015,ES,Madrid,Madrid,Calle de Bravo murillo 22,Madrid'\", \"'28050,ES,Madrid,Madrid,Calle de Ana de austria 12,Madrid'\", \"'28029,ES,Madrid,Madrid,Paseo de la Vaguada 1,Madrid'\", \"'28015,ES,Madrid,Madrid,Calle de San bernardo 80,Madrid'\", \"'Calle Juan Bravo nº 50'\", \"'Calle Palos de la Frontera nº 27'\", \"'Calle Alicante nº 3'\", \"'Avenida de la Albufera nº 6'\", \"'Calle Juan Martín el Empecinado nº 16'\", \"'Plaza de la Independencia nº 6'\", \"'Avenida de Nazaret nº 7'\", \"'Calle Doce de Octubre nº 28'\", \"'28038,ES,Madrid,Madrid,Avenida de la Albufera 252,Madrid'\", \"'Paseo de la Castellana nº 298'\", \"'28033,ES,Madrid,Madrid,Calle Emilio rubín 11,Madrid'\", \"'Avenida de los Toreros nº 49'\", \"'28035,ES,Madrid,Madrid,Calle de Fermín caballero 82,Madrid'\", \"'Calle Fernando el Católico nº 19'\", \"'28050,ES,Madrid,Madrid,Carretera de Fuencarral a alcobendas 2,Madrid'\", \"'Calle José Ortega y Gasset nº 4'\", \"'28050,ES,Madrid,Madrid,Calle del Príncipe carlos 36,Madrid'\", \"'Calle Goya nº 18'\", \"'Paseo Marqués de Zafra nº 24'\", \"'Calle León Gil de Palacio nº 3'\", \"'Puerta del Sol nº 1'\", \"'28019,ES,Madrid,Madrid,Calle de Belmonte de tajo 24,Madrid'\", \"'28011,ES,Madrid,Madrid,Plaza de la Puerta del ángel 3,Madrid'\", \"'Calle Serrano nº 34'\", \"'28003,ES,Madrid,Madrid,Calle de Alonso cano 71,Madrid'\", \"'Paseo de la Florida nº 8'\", \"'Calle Augusto Figueroa nº 33'\", \"'28017,ES,Madrid,Madrid,Calle Ricardo ortiz 44B,Madrid'\", \"'Paseo de la Castellana nº 106'\", \"'28011,ES,Madrid,Madrid,Paseo de María teresa 14,Madrid'\", \"'28039,ES,Madrid,Madrid,Calle de los Voluntarios catalanes 55,Madrid'\", \"'Plaza de San Francisco nº 5'\", \"'Plaza de Alonso Martínez nº 5'\", \"'28033,ES,Madrid,Madrid,Calle de Caleruega 88A,Madrid'\", \"'28017,ES,Madrid,Madrid,Avenida del Marqués de corbera 52,Madrid'\", \"'Calle Orense nº 36'\", \"'Glorieta de Embajadores nº 2'\", \"'28005,ES,Madrid,Madrid,Travesía de San isidoro de sevilla 6E,Madrid'\", \"'Calle Desengaño nº 1'\", \"'28004,ES,Madrid,Madrid,Calle de la Luna 4,Madrid'\", \"'28008,ES,Madrid,Madrid,Avenida de Valladolid 79,Madrid'\", \"'Calle Doctor Fleming nº 7'\", \"'Calle Ayala nº 44'\", \"'28017,ES,Madrid,Madrid,Calle de Cyesa 15,Madrid'\", \"'28050,ES,Madrid,Madrid,Avenida del Ingeniero emilio herrera 17,Madrid'\", \"'Calle Eugenio Caxes frente al nº 12'\", \"'28909,ES,Madrid,Madrid,Camino de los Salmedina ,Madrid'\", \"'Calle O'Donnell nº 28'\", \"'Calle Santa Engracia nº 14'\", \"'28004,ES,Madrid,Madrid,Calle de Barquillo 8,Madrid'\", \"'Calle Conde Duque nº 22'\", \"'Paseo de la Chopera nº 14'\", \"'28019,ES,Madrid,Madrid,Glorieta Marqués de vadillo 7,Madrid'\", \"'28005,ES,Madrid,Madrid,Calle de Segovia 47B,Madrid'\", \"'28016,ES,Madrid,Madrid,Avenida de Pío xii 3,Madrid'\", \"'28046,ES,Madrid,Madrid,Calle de Mauricio legendre 59,Madrid'\", \"'28008,ES,Madrid,Madrid,Calle de Felipe moratilla 6,Madrid'\", \"'Calle José María de Pereda nº 1'\", \"'Calle Barceló nº 7'\", \"'Calle Segovia nº 26'\", \"'28043,ES,Madrid,Madrid,Calle de Treviana 1A,Madrid'\", \"'28050,ES,Madrid,Madrid,Calle de Manuel azaña ,Madrid'\", \"'Calle Hermosilla nº 135'\", \"'28020,ES,Madrid,Madrid,Calle de San germán 72,Madrid'\", \"'Calle Velázquez nº 75'\", \"'28016,ES,Madrid,Madrid,Avenida de Pío xii 7,Madrid'\", \"'28017,ES,Madrid,Madrid,Calle de Gutierre de cetina 77,Madrid'\", \"'28017,ES,Madrid,Madrid,Calle de Nuestra señora del villar 85,Madrid'\", \"'Calle Mesón de Paredes nº 35'\", \"'Paseo de Santa María de la Cabeza nº 58'\", \"'Plaza Cibeles'\", \"'28043,ES,Madrid,Madrid,Calle de Ángel muñoz 2,Madrid'\", \"'Calle Santander esquina con Avenida de Filipinas'\", \"'28050,ES,Madrid,Madrid, V.c. sanchinarro ,Madrid'\", \"'28037,ES,Madrid,Madrid,Calle Cronos 65,Madrid'\", \"'Calle Galileo nº 63'\", \"'Calle Pavía nº 6'\", \"'28033,ES,Madrid,Madrid,Calle de Caleruega 66,Madrid'\", \"'Calle Pedro Rico nº 4'\", \"'28030,ES,Madrid,Madrid,Calle del Camino de los vinateros 110,Madrid'\", \"'Calle San Germán nº 57'\", \"'Calle Doctor Esquerdo nº 161'\", \"'28020,ES,Madrid,Madrid,Avenida Centrum ,Madrid'\", \"'Calle Sodio nº 1B'\", \"'Plaza de Jacinto Benavente'\", \"'28049,ES,Madrid,Madrid,Avenida del Santuario de valverde 68,Madrid'\", \"'28009,ES,Madrid,Madrid,Calle de Pío baroja 8,Madrid'\", \"'28030,ES,Madrid,Madrid,Calle del Alcalde garrido juaristi 17,Madrid'\", \"'Calle Marqués de Viana nº 3'\", \"'Avenida de Menéndez Pelayo esquina calle O'Donnell'\", \"'Avenida de Daroca nº 2'\", \"'28011,ES,Madrid,Madrid,Bulevar de la Avenida de portugal ,Madrid'\", \"'Avenida de Brasilia frente al nº 9'\", \"'28008,ES,Madrid,Madrid,Avenida de Valladolid 43,Madrid'\", \"'28001,ES,Madrid,Madrid,Calle de Claudio coello 51,Madrid'\", \"'28011,ES,Madrid,Madrid,Ronda del Lago 2,Madrid'\", \"'Plaza de la República Argentina nº 6'\", \"'28033,ES,Madrid,Madrid,Calle de la Cultura 11,Madrid'\", \"'28007,ES,Madrid,Madrid,Calle de Carlos y guillermo fernández shaw 1E,Madrid'\", \"'28012,ES,Madrid,Madrid,Plaza de Cascorro 5,Madrid'\", \"'28011,ES,Madrid,Madrid,Paseo de la Ermita del santo ,Madrid'\", \"'28001,ES,Madrid,Madrid,Avenida de Méjico ,Madrid'\", \"'28040,ES,Madrid,Madrid,Calle de María auxiliadora 1,Madrid'\", \"'Paseo de la Castellana nº 42'\", \"'Paseo de Moret nº 11'\", \"'28035,ES,Madrid,Madrid,Paseo de Andrés bello ,Madrid'\", \"'28049,ES,Madrid,Madrid,Avenida del Santuario de valverde 71,Madrid'\", \"'Calle Manuela Malasaña nº 5'\", \"'Paseo de la Castellana nº 4'\", \"'28049,ES,Madrid,Madrid,Calle Monasterio de las huelgas 17,Madrid'\", \"'Calle Princesa nº 5'\", \"'28010,ES,Madrid,Madrid,Calle de Manuel cortina 2,Madrid'\", \"'Plaza Puerta del Ángel nº 4'\", \"'Avenida de Menéndez Pelayo nº 3'\", \"'Calle Antonio López nº 129'\", \"'Paseo del Pintor Rosales frente al nº 38'\", \"'28008,ES,Madrid,Madrid,Paseo de la Florida 23,Madrid'\", \"'Avenida del Mediterráneo nº 19'\", \"'28012,ES,Madrid,Madrid,Calle del Olmo 17,Madrid'\", \"'28004,ES,Madrid,Madrid,Calle de Santa brígida 25,Madrid'\", \"'Calle Serrano nº 113B'\", \"'Calle Santa Engracia nº 127'\", \"'28027,ES,Madrid,Madrid,Calle de Federico gutiérrez 23,Madrid'\", \"'Avenida del Doctor Arce nº 45'\", \"'28037,ES,Madrid,Madrid,Calle Santa leonor 40,Madrid'\", \"'28007,ES,Madrid,Madrid,Calle de Valderribas 72,Madrid'\", \"'28017,ES,Madrid,Madrid,Calle de Ignacio ellacuria 3,Madrid'\", \"'28008,ES,Madrid,Madrid,Calle de Aniceto marinas 98,Madrid'\", \"'28011,ES,Madrid,Madrid,Paseo de la Ermita del santo 14,Madrid'\", \"'28035,ES,Madrid,Madrid,Calle de Valderrey 10,Madrid'\", \"'28041,ES,Madrid,Madrid,Calle de Antonio lópez 254B,Madrid'\", \"'28046,ES,Madrid,Madrid,Paseo de la Castellana 29,Madrid'\", \"'Calle Guzmán el Bueno nº 1'\", \"'28033,ES,Madrid,Madrid,Calle de Caleruega 88B,Madrid'\", \"'28027,ES,Madrid,Madrid,Calle de Belice 19,Madrid'\", \"'Calle Alcalá nº 49'\", \"'28030,ES,Madrid,Madrid,Avenida del Doctor garcía tapia 196,Madrid'\", \"'28007,ES,Madrid,Madrid,Calle de Carlos y guillermo fernández shaw 1C,Madrid'\", \"'28037,ES,Madrid,Madrid,Calle Albasánz 43,Madrid'\", \"'28004,ES,Madrid,Madrid,Calle de Hortaleza 104,Madrid'\", \"'28019,ES,Madrid,Madrid,Calle de Baleares 33,Madrid'\", \"'Calle Alcalá nº 27'\", \"'28026,ES,Madrid,Madrid,Calle de Antonio lópez 168,Madrid'\", \"'28049,ES,Madrid,Madrid,Calle Monasterio de el paular 2D,Madrid'\", \"'Calle María Francisca nº 1'\", \"'Calle Rodríguez Jaén nº 40'\", \"'Calle Ibiza nº 62'\", \"'Calle Atocha nº 95'\", \"'28046,ES,Madrid,Madrid,Calle de Mauricio legendre 38D,Madrid'\", \"'28015,ES,Madrid,Madrid,Calle del Álamo 9,Madrid'\", \"'28030,ES,Madrid,Madrid,Calle del Camino de los vinateros 28,Madrid'\", \"'28011,ES,Madrid,Madrid,Calle de Saavedra fajardo 8,Madrid'\", \"'28012,ES,Madrid,Madrid,Calle de Embajadores 12,Madrid'\", \"'Calle Espíritu Santo nº 30'\", \"'28022,ES,Madrid,Madrid,Paseo de Ginebra 55,Madrid'\", \"'28027,ES,Madrid,Madrid,Calle de la Virgen de lourdes 34,Madrid'\", \"'Calle Quintana nº 11'\", \"'Plaza de las Salesas 7'\", \"'28030,ES,Madrid,Madrid,Calle de Félix rodríguez de la fuente 33,Madrid'\", \"'Paseo de la Habana nº 63'\", \"'28030,ES,Madrid,Madrid,Calle del Camino de los vinateros 1,Madrid'\", \"'28035,ES,Madrid,Madrid,Calle de María de maeztu 62,Madrid'\", \"'Calle Orense nº 12'\", \"'Avenida de los Toreros nº 3'\", \"'Calle Fernández de la Hoz nº 29'\", \"'28027,ES,Madrid,Madrid,Calle de Belice 40,Madrid'\", \"'28008,ES,Madrid,Madrid,Calle de la Ribera del manzanares 115,Madrid'\", \"'Calle San Vicente Ferrer nº 64'\", \"'28035,ES,Madrid,Madrid,Calle de Irene caba alba 2,Madrid'\", \"'Calle Arcipreste de Hita nº 12'\", \"'28030,ES,Madrid,Madrid,Avenida del Doctor garcía tapia 194,Madrid'\", \"'28046,ES,Madrid,Madrid,Paseo de la Castellana 124,Madrid'\", \"'28008,ES,Madrid,Madrid,Calle de la Ribera del manzanares 95,Madrid'\", \"'28016,ES,Madrid,Madrid,Calle del Cardenal marcelo spínola 4,Madrid'\", \"'28018,ES,Madrid,Madrid,Avenida de Pablo neruda 69,Madrid'\", \"'28004,ES,Madrid,Madrid,Calle de Barceló 7,Madrid'\", \"'28037,ES,Madrid,Madrid,Calle Albasánz 56,Madrid'\", \"'28030,ES,Madrid,Madrid,Calle de José bergamín 34,Madrid'\", \"'Calle Alcalde Sáinz de Baranda frente al nº 107'\", \"'Calle Duque de Liria'\", \"'28011,ES,Madrid,Madrid,Glorieta del Puente de segovia 3,Madrid'\", \"'Calle José Ortega y Gasset nº 30'\", \"'Calle Serrano nº 8'\", \"'Avenida de Menéndez Pelayo nº 63'\", \"'28006,ES,Madrid,Madrid,Calle de José ortega y gasset 85,Madrid'\", \"'Plaza del Carmen nº 1'\", \"'28009,ES,Madrid,Madrid,Avenida de Menéndez pelayo 63,Madrid'\", \"'Plaza de la Cebada nº 16 '\", \"'Calle Sinesio Delgado nº 2'\", \"'Calle Ortega y Gasset nº 87'\", \"'Calle Doctor Esquerdo nº 191'\", \"'Avenida de Menéndez Pelayo nº 38'\", \"'28008,ES,Madrid,Madrid,Calle de la Ribera del manzanares ,Madrid'\", \"'Paseo de la Esperanza nº 59'\", \"'Plaza de Santa Ana nº 10'\", \"'Ronda de Atocha nº 2'\", \"'28050,ES,Madrid,Madrid,Paseo de Tierra melide 38A,Madrid'\", \"'28027,ES,Madrid,Madrid,Calle de Corumba 30,Madrid'\", \"'28045,ES,Madrid,Madrid,Calle Titán 10,Madrid'\", \"'Calle San Bernardo nº 22'\", \"'Calle Santa Cruz del Marcenado nº 24'\", \"'28004,ES,Madrid,Madrid,Plaza de Salesas 8,Madrid'\", \"'28033,ES,Madrid,Madrid,Calle de Arturo soria 329,Madrid'\", \"'Calle Almadén nº 28'\", \"'Calle Toledo nº 181'\", \"'28032,ES,Madrid,Madrid,Calle de Aquitania 9,Madrid'\", \"'Plaza de San Ildefonso'\", \"'28019,ES,Madrid,Madrid,Calle de Amalarico 36,Madrid'\", \"'Calle Derechos Humanos nº 12'\", \"'Calle Condesa de Venadito nº 2'\", \"'Calle del Marqués de Cubas nº 25'\", \"'28002,ES,Madrid,Madrid,Calle del Doctor marco corera 1,Madrid'\", \"'28034,ES,Madrid,Madrid,Calle de Nuestra señora de valverde 19,Madrid'\", \"'Calle Lavapiés nº 34'\", \"'28008,ES,Madrid,Madrid,Avenida de Valladolid 47G,Madrid'\", \"'28016,ES,Madrid,Madrid,Calle de Federico salmón 3,Madrid'\", \"'Calle José Abascal nº 33'\", \"'Calle Cartagena nº 34'\", \"'Calle Mártires Concepcionistas nº 2'\", \"'28016,ES,Madrid,Madrid,Avenida de Pío xii 1,Madrid'\", \"'Calle Valencia nº 1'\", \"'28042,ES,Madrid,Madrid,Plaza del Capricho 46,Madrid'\", \"'Calle Claudio Coello nº 109'\", \"'28050,ES,Madrid,Madrid,Calle Margarita de parma 1,Madrid'\", \"'Avenida Juan de Herrera frente a la calle Paul Guinard'\", \"'28008,ES,Madrid,Madrid,Paseo de la Florida 25,Madrid'\", \"'Calle Claudio Coello nº 45'\", \"'28015,ES,Madrid,Madrid,Calle de San bernardo 82,Madrid'\", \"'Calle Mayor nº 20'\", \"'Plaza de la Provincia nº 1'\", \"'Calle Camino de los Vinateros nº 108'\", \"'Calle Gutierre de Cetina nº 77'\", \"'28003,ES,Madrid,Madrid,Avenida de la Reina victoria 68,Madrid'\", \"'Avenida de Alberto Alcocer nº 22'\", \"'Calle Cerro de la Plata nº 2'\", \"'28033,ES,Madrid,Madrid,Calle de Arturo soria 330,Madrid'\", \"'Calle Arroyo de las Pilillas nº 6'\", \"'Cuesta de Claudio Moyano'\", \"'28055,ES,Madrid,Madrid,Avenida de las Fuerzas armadas ,Madrid'\", \"'Plaza del Cordón'\", \"'Calle Alcalá nº 111'\", \"'Calle San Andrés nº 18'\", \"'Paseo de la Castellana nº 122'\", \"'Calle Segovia nº 45'\", \"'Calle Santa Isabel nº 57'\", \"'28013,ES,Madrid,Madrid,Calle de Vergara 3B,Madrid'\", \"'Calle José Gutiérrez Abascal nº 2'\", \"'28050,ES,Madrid,Madrid,Calle de la Princesa de éboli 3B,Madrid'\", \"'Avenida Complutense nº 23'\", \"'Calle Manuel Silvela nº 20'\", \"'28027,ES,Madrid,Madrid,Calle del Sol naciente 26,Madrid'\", \"'28037,ES,Madrid,Madrid,Calle Santa leonor 48,Madrid'\", \"'28004,ES,Madrid,Madrid,Calle de Hortaleza 75,Madrid'\", \"'Paseo de los Olmos nº 28'\", \"'28011,ES,Madrid,Madrid,Paseo de la Ermita del santo 16,Madrid'\", \"'28008,ES,Madrid,Madrid,Calle de Loeches 8,Madrid'\", \"'Carrera de San Francisco nº 1'\", \"'Glorieta Rubén Darío 2'\", \"'Calle Isaac Peral nº 44'\", \"'28013,ES,Madrid,Madrid,Calle Gran vía 32B,Madrid'\", \"'28050,ES,Madrid,Madrid,Calle de la Princesa de éboli 29,Madrid'\", \"'28029,ES,Madrid,Madrid,Anillo Distribuidor cuatro torres ,Madrid'\", \"'28013,ES,Madrid,Madrid,Calle de la Virgen de los peligros 13,Madrid'\", \"'Calle Sancho Dávila esquina Paseo Marqués de Zafra'\", \"'Plaza del Conde de Romanones nº 9'\", \"'28043,ES,Madrid,Madrid,Calle de Ramírez de arellano 21B,Madrid'\", \"'28009,ES,Madrid,Madrid,Avenida Felipe ii 5,Madrid'\", \"'28007,ES,Madrid,Madrid,Calle de Santa sabina 3,Madrid'\", \"'Avenida de la Complutense (Metro Ciudad Universitaria)'\", \"'28007,ES,Madrid,Madrid,Calle de Garibay 191,Madrid'\", \"'Paseo de la Esperanza nº 21'\", \"'Calle Velázquez nº 91'\", \"'28050,ES,Madrid,Madrid,Calle de Castiello de jaca 14G,Madrid'\", \"'28027,ES,Madrid,Madrid,Calle de José del hierro 48,Madrid'\", \"'28053,ES,Madrid,Madrid,Calle de Manuel maroto 48,Madrid'\", \"'28045,ES,Madrid,Madrid,Calle de Méndez álvaro 32,Madrid'\", \"'28008,ES,Madrid,Madrid,Paseo del Comandante fortea 66,Madrid'\", \"'Calle San Bernardo nº 85'\", \"'28008,ES,Madrid,Madrid,Avenida de Valladolid 81,Madrid'\", \"'Calle Carlos III nº 1'\", \"'28026,ES,Madrid,Madrid,Calle de Eugenio caxes 14,Madrid'\", \"'Calle Espalter nº 1'\", \"'Calle Zurbano nº 90'\", \"'28019,ES,Madrid,Madrid,Calle de Belmonte de tajo 26,Madrid'\", \"'Calle Raimundo Fernández Villaverde nº 33'\", \"'28050,ES,Madrid,Madrid,Avenida del Ingeniero emilio herrera 54,Madrid'\", \"'28033,ES,Madrid,Madrid,Calle de Arturo soria 331,Madrid'\", \"'Calle Atocha nº 54'\", \"'28030,ES,Madrid,Madrid,Calle del Camino de los vinateros 108,Madrid'\", \"'Calle Fuencarral nº 108'\", \"'Camino de Valderribas nº 94'\", \"'28027,ES,Madrid,Madrid,Plaza de Nueva orleans ,Madrid'\", \"'28039,ES,Madrid,Madrid,Calle de Ofelia nieto 2,Madrid'\", \"'Calle Hermosilla nº 70'\", \"'Calle Hacienda de Pavones nº 342'\", \"'28019,ES,Madrid,Madrid,Calle de Jacinto verdaguer 24,Madrid'\", \"'Calle Bustamante nº 1'\", \"'28005,ES,Madrid,Madrid,Calle de Toledo 118,Madrid'\", \"'Calle Jose del Hierro nº 5'\", \"'28026,ES,Madrid,Madrid,Calle de Antonio lópez 166,Madrid'\", \"'Calle San Delfín nº 9'\"}\n",
      "\n",
      "Siendo menos ortodoxos con la respuesta, las estaciones más populares ordenadas de mayor a menor son:\n",
      "[\"'Plaza de la Cebada nº 16 '\", \"'Calle Valencia nº 1'\", \"'Glorieta de la Puerta de Toledo nº 1'\", \"'Glorieta Marqués de Vadillo nº 9'\", \"'Calle Atocha nº 54'\", \"'Glorieta de Quevedo nº 5'\", \"'Calle Segovia nº 45'\", \"'Plaza de San Francisco nº 5'\", \"'Calle Santa Engracia nº 87'\", \"'Calle Augusto Figueroa nº 33'\", \"'Plaza de las Salesas 7'\", \"'Carrera de San Francisco nº 1'\", \"'Avenida de Menéndez Pelayo esquina calle O'Donnell'\", \"'Calle San Delfín nº 9'\", \"'Paseo de Santa María de la Cabeza nº 58'\", \"'Calle Santa Engracia nº 127'\", \"'Plaza de San Ildefonso'\", \"'Calle Galileo nº 63'\", \"'Avenida de Menéndez Pelayo con calle Poeta Esteban Villegas'\", \"'Plaza de la Independencia nº 6'\", \"'Avenida del Mediterráneo nº 19'\", \"'Calle del General Álvarez de Castro nº 1'\", \"'Calle Atocha nº 95'\", \"'Calle Manuel Silvela nº 20'\", \"'Calle Santa Engracia nº 168'\", \"'Plaza de Alonso Martínez nº 5'\", \"'Calle Barceló nº 7'\", \"'Paseo Imperial nº 20'\", \"'Calle Suero de Quiñones nº 2'\", \"'Paseo de la Florida nº 8'\", \"'Calle San Bernardo nº 85'\", \"'Calle Fernández de la Hoz nº 29'\", \"'Calle Fernando el Católico nº 19'\", \"'Plaza de Pedro Zerolo nº 1'\", \"'Plaza de Jacinto Benavente'\", \"'Calle Princesa nº 5'\", \"'Avenida de Menéndez Pelayo nº 73'\", \"'Paseo de la Chopera nº 14'\", \"'Avenida de Menéndez Pelayo nº 38'\", \"'Plaza Puerta del Ángel nº 4'\", \"'Calle Santander esquina con Avenida de Filipinas'\", \"'Glorieta de Embajadores nº 6'\", \"'Calle Juan Bravo nº 50'\", \"'Calle Ibiza nº 18'\", \"'Calle Princesa nº 5'\", \"'Ronda de Atocha nº 34'\", \"'Paseo de los Olmos nº 28'\", \"'Calle del Marqués de Cubas nº 25'\", \"'Paseo de la Esperanza nº 2'\", \"'Paseo de la Esperanza nº 59'\", \"'Calle Jaime el Conquistador nº 30'\", \"'Plaza de Santa Ana nº 10'\", \"'Calle Mesón de Paredes nº 35'\", \"'Calle Goya nº 18'\", \"'Paseo de la Infanta Isabel nº 3'\", \"'Calle Guzmán el Bueno nº 1'\", \"'Calle Orense nº 12'\", \"'Calle León Gil de Palacio nº 3'\", \"'Calle O'Donnell nº 28'\", \"'Calle José Abascal nº 33'\", \"'Calle Fernando el Católico nº 61'\", \"'Calle Ribera de Curtidores nº 28'\", \"'Calle O'Donnell nº 50'\", \"'Calle Doce de Octubre nº 28'\", \"'Calle Navarra nº 1'\", \"'Plaza de Felipe II'\", \"'Calle Eugenio Caxes frente al nº 12'\", \"'Calle Caramuel nº 51'\", \"'Calle Almadén nº 28'\", \"'Ronda de Atocha nº 2'\", \"'Calle Embajadores nº 101'\", \"'Calle Toledo nº 181'\", \"'Paseo de la Esperanza nº 21'\", \"'Glorieta Rubén Darío 2'\", \"'Calle Palos de la Frontera nº 27'\", \"'Avenida de Menéndez Pelayo nº 63'\", \"'Paseo de la Ermita del Santo nº 48'\", \"'Avenida de Alfonso XII nº 54'\", \"'Calle Fuencarral nº 108'\", \"'Avenida de Nazaret nº 7'\", \"'Calle Francos Rodríguez nº 62'\", \"'Calle Hortaleza nº 63'\", \"'Calle Antonio López nº 129'\", \"'Calle Bravo Murillo nº 44'\", \"'Calle Doctor Esquerdo nº 99'\", \"'Calle San Bernardo nº 22'\", \"'Calle Cea Bermúdez nº 59'\", \"'Paseo de Recoletos nº 20'\", \"'Calle Alicante nº 3'\", \"'Calle María de Guzmán nº 58'\", \"'Calle Conde Duque nº 22'\", \"'Calle Bustamante nº 1'\", \"'Calle José Ortega y Gasset nº 4'\", \"'Calle Ibiza nº 62'\", \"'Paseo de Yeserías nº 45'\", \"'Paseo de las Delicias nº 92'\", \"'Glorieta de Embajadores nº 2'\", \"'Plaza de Santo Domingo nº 1'\", \"'Plaza Cibeles'\", \"'Avenida Marqués de Corbera nº 12'\", \"'Calle Zurbano nº 90'\", \"'Calle Altamirano nº 24'\", \"'Calle José Ortega y Gasset nº 30'\", \"'Calle Ayala nº 44'\", \"'Paseo Santa María de la Cabeza nº 29'\", \"'Calle Lavapiés nº 34'\", \"'Calle Alcalá nº 27'\", \"'Avenida de la Albufera nº 6'\", \"'Calle Colombia nº 7'\", \"'Calle Alcalde Sáinz de Baranda frente al nº 107'\", \"'Calle Arroyo del Olivar nº 6'\", \"'Plaza del Conde de Romanones nº 9'\", \"'Calle Doctor Esquerdo nº 161'\", \"'Calle Hortaleza nº 75'\", \"'Plaza del Conde del Valle de Súchil nº 3'\", \"'Calle Santa Engracia nº 14'\", \"'Calle Juan Martín el Empecinado nº 16'\", \"'Calle Velázquez nº 130'\", \"'Cuesta de Claudio Moyano'\", \"'Calle Desengaño nº 1'\", \"'Calle Francisco Silvela nº 86'\", \"'Plaza de Carlos Cambronero nº 2'\", \"'Calle Santa Isabel nº 57'\", \"'Calle Doctor Santero nº 1'\", \"'Calle General Pardiñas nº 56'\", \"'Calle Pavía nº 6'\", \"'Calle Orense nº 36'\", \"'Calle Antonio Maura nº 15'\", \"'Calle San Vicente Ferrer nº 64'\", \"'Calle Virgen de la Alegría nº 18'\", \"'Avenida de Menéndez Pelayo nº 3'\", \"'Calle Santa Hortensia nº 31'\", \"'Calle Alcalá nº 49'\", \"'Paseo Marqués de Zafra nº 24'\", \"'Calle Velázquez nº 91'\", \"'Calle San Germán nº 57'\", \"'Calle Serrano nº 8'\", \"'Calle San Andrés nº 18'\", \"'Calle Cerro de la Plata nº 2'\", \"'Calle Arcipreste de Hita nº 12'\", \"'Plaza de San Miguel nº 9'\", \"'Calle José Abascal frente al nº 2'\", \"'Calle Espíritu Santo nº 30'\", \"'Calle Diego de León nº 52'\", \"'Calle Ortega y Gasset nº 87'\", \"'Calle Sodio nº 1B'\", \"'Calle Alcántara nº 2'\", \"'Calle Miguel Moya nº 1'\", \"'Calle Ayala nº 102'\", \"'Calle Jorge Juan nº 131'\", \"'Calle Carlos III nº 1'\", \"'Calle Cartagena nº 34'\", \"'Calle Isaac Peral nº 44'\", \"'Puerta del Sol nº 1'\", \"'Calle Bolívar nº 3'\", \"'Calle Alonso Heredia nº 1'\", \"'Calle Beatriz de Bobadilla frente al nº 2'\", \"'Calle Marqués de Viana nº 3'\", \"'Plaza del Cordón'\", \"'Calle Mártires Concepcionistas nº 2'\", \"'Avenida de Alberto Alcocer nº 22'\", \"'Paseo de Moret nº 2'\", \"'Calle José María de Pereda nº 1'\", \"'Avenida de los Toreros nº 3'\", \"'Calle Doctor Esquerdo nº 191'\", \"'Calle Quintana nº 11'\", \"'Calle María Francisca nº 1'\", \"'Paseo de la Castellana esquina calle Raimundo Fernández Villaverde'\", \"'Paseo de la Castellana nº 42'\", \"'Avenida Juan de Herrera frente a la calle Paul Guinard'\", \"'Calle Manuela Malasaña nº 5'\", \"'Calle Camino de los Vinateros nº 28'\", \"'Calle Jacometrezo nº 3'\", \"'Paseo de la Castellana nº 4'\", \"'Calle Serrano nº 54'\", \"'Calle Marqués de la Ensenada nº 16'\", \"'Calle San Germán nº 5'\", \"'Avenida de los Toreros nº 49'\", \"'Calle Azucenas nº 1'\", \"'Paseo de la Castellana nº 122'\", \"'Calle Méndez Álvaro nº 11'\", \"'Calle Velázquez nº 75'\", \"'Paseo de la Castellana nº 216'\", \"'Avenida de Camilo José Cela nº 23'\", \"'Calle Mayor nº 20'\", \"'Calle Espalter nº 1'\", \"'Plaza de Ramales'\", \"'Calle Sor Ángela de la Cruz nº 2'\", \"'Plaza de la Provincia nº 1'\", \"'Paseo de la Castellana nº 106'\", \"'Avenida del Doctor Arce nº 45'\", \"'Paseo de la Habana nº 42'\", \"'Avenida Marqués de Corbera nº 52'\", \"'Calle Evaristo San Miguel nº 2'\", \"'Calle Camino de los Vinateros nº 108'\", \"'Calle Raimundo Fernández Villaverde nº 33'\", \"'Calle Duque de Liria'\", \"'Plaza de San Juan de la Cruz nº 11'\", \"'Calle Alejandro González nº 1'\", \"'Calle Sinesio Delgado nº 2'\", \"'Calle Sancho Dávila esquina Paseo Marqués de Zafra'\", \"'Calle Condesa de Venadito nº 2'\", \"'Calle Alcalá nº 111'\", \"'Avenida de Concha Espina nº 34'\", \"'Calle Claudio Coello nº 45'\", \"'Paseo del Pintor Rosales frente al nº 38'\", \"'Calle Segovia nº 26'\", \"'Avenida de Daroca nº 2'\", \"'Calle Padre Indalecio Hernández nº 1'\", \"'Calle José Gutiérrez Abascal nº 2'\", \"'Calle Jose del Hierro nº 5'\", \"'Calle Gutierre de Cetina nº 77'\", \"'Camino de Valderribas nº 94'\", \"'Puerta del Sol nº 1'\", \"'Calle Alcalá nº 95'\", \"'Calle Claudio Coello nº 109'\", \"'Calle Pío Baroja nº 10'\", \"'Calle General Ampudia nº 2'\", \"'Calle Tres Cruces nº 7'\", \"'Paseo Castellana (Fundación Canal)'\", \"'Calle Retama nº 5'\", \"'Calle Arcipreste de Hita nº 12'\", \"'Avenida Pío XII nº 3'\", \"'Paseo de la Infanta Isabel nº 3'\", \"'Calle Rodríguez Jaén nº 40'\", \"'Paseo de Moret nº 11'\", \"'Calle Carretas nº 8'\", \"'Paseo de la Castellana nº 43'\", \"'Avenida Complutense nº 23'\", \"'Calle Goya nº 99'\", \"'Calle Arroyo de las Pilillas nº 6'\", \"'Calle Serrano nº 34'\", \"'Plaza de la República Argentina nº 6'\", \"'Calle Goya nº 1'\", \"'Calle José Antonio Novais frente al nº 12'\", \"'Calle Serrano nº 34'\", \"'Calle Carlota O'Neill nº 32'\", \"'Calle Doctor Fleming nº 7'\", \"'Calle Sierra Toledana nº 33'\", \"'Calle Jesús nº 1'\", \"'Calle Santa Cruz del Marcenado nº 24'\", \"'Plaza de Celenque nº 1'\", \"'Calle Hermosilla nº 135'\", \"'Plaza del Carmen nº 1'\", \"'Calle General López Pozas nº 2'\", \"'Avenida Bruselas nº 56'\", \"'Calle Derechos Humanos nº 12'\", \"'Paseo de la Habana nº 63'\", \"'Calle Serrano nº 113B'\", \"'Calle Serrano nº 210'\", \"'Calle Pedro Rico nº 4'\", \"'Avenida de la Complutense (Metro Ciudad Universitaria)'\", \"'Avenida de la Complutense (Metro Ciudad Universitaria)'\", \"'Avenida de Brasilia frente al nº 9'\", \"'Calle Hermosilla nº 70'\", \"'Plaza de Celenque nº 1'\", \"'Paseo de la Castellana nº 298'\", \"'Calle Hacienda de Pavones nº 342'\", \"'28046,ES,Madrid,Madrid,Calle de Mauricio legendre 38D,Madrid'\", \"'28909,ES,Madrid,Madrid,Camino de los Salmedina ,Madrid'\", \"'28033,ES,Madrid,Madrid,Calle de Caleruega 66,Madrid'\", \"'28016,ES,Madrid,Madrid,Avenida de Pío xii 3,Madrid'\", \"'28015,ES,Madrid,Madrid,Calle de San bernardo 82,Madrid'\", \"'28050,ES,Madrid,Madrid,Calle de la Princesa de éboli 3B,Madrid'\", \"'28050,ES,Madrid,Madrid,Avenida de Manoteras 46B,Madrid'\", \"'28015,ES,Madrid,Madrid,Calle de San bernardo 85,Madrid'\", \"'28033,ES,Madrid,Madrid,Calle de Caleruega 68,Madrid'\", \"'28041,ES,Madrid,Madrid,Calle de Antonio lópez 254B,Madrid'\", \"'28011,ES,Madrid,Madrid,Ronda del Lago 2,Madrid'\", \"'28011,ES,Madrid,Madrid,Paseo de María teresa 14,Madrid'\", \"'28042,ES,Madrid,Madrid,Plaza del Capricho 46,Madrid'\", \"'28007,ES,Madrid,Madrid,Calle de Carlos y guillermo fernández shaw 1C,Madrid'\", \"'28008,ES,Madrid,Madrid,Calle de Aniceto marinas 98,Madrid'\", \"'28030,ES,Madrid,Madrid,Plaza del Corregidor alonso de aguilar 5,Madrid'\", \"'28016,ES,Madrid,Madrid,Calle del Cardenal marcelo spínola 4,Madrid'\", \"'28046,ES,Madrid,Madrid,Calle de Mauricio legendre 59,Madrid'\", \"'28046,ES,Madrid,Madrid,Paseo de la Castellana 194,Madrid'\", \"'28043,ES,Madrid,Madrid,Calle de Arturo soria 126,Madrid'\", \"'28047,ES,Madrid,Madrid,Calle Cjal. francisco josé jiménez martín 28,Madrid'\", \"'28006,ES,Madrid,Madrid,Calle de Diego de león 49,Madrid'\", \"'28043,ES,Madrid,Madrid,Calle de Arturo soria 128,Madrid'\", \"'28030,ES,Madrid,Madrid,Avenida del Doctor garcía tapia 194,Madrid'\", \"'28009,ES,Madrid,Madrid,Plaza Independencia ,Madrid'\", \"'28033,ES,Madrid,Madrid,Calle de Santa virgilia 19,Madrid'\", \"'28012,ES,Madrid,Madrid,Calle del Olmo 17,Madrid'\", \"'28027,ES,Madrid,Madrid,Calle de Corumba 30,Madrid'\", \"'28020,ES,Madrid,Madrid,Calle de San germán 72,Madrid'\", \"'28050,ES,Madrid,Madrid,Calle Palas de rey 16,Madrid'\", \"'28003,ES,Madrid,Madrid,Calle de Alonso cano 71,Madrid'\", \"'28050,ES,Madrid,Madrid,Calle del Príncipe carlos 36,Madrid'\", \"'28009,ES,Madrid,Madrid,Calle de Pío baroja 8,Madrid'\", \"'28012,ES,Madrid,Madrid,Calle del Olmo 15,Madrid'\", \"'28004,ES,Madrid,Madrid,Plaza de Salesas 2,Madrid'\", \"'28035,ES,Madrid,Madrid,Calle de Ramón gómez de la serna 2,Madrid'\", \"'28035,ES,Madrid,Madrid,Calle de María de maeztu 62,Madrid'\", \"'28035,ES,Madrid,Madrid,Calle de Irene caba alba 2,Madrid'\", \"'28033,ES,Madrid,Madrid,Calle de Arturo soria 330,Madrid'\", \"'28033,ES,Madrid,Madrid,Calle de Arturo soria 331,Madrid'\", \"'28034,ES,Madrid,Madrid,Calle de Nuestra señora de valverde 19,Madrid'\", \"'28034,ES,Madrid,Madrid,Calle de Fermín caballero 61,Madrid'\", \"'28034,ES,Madrid,Madrid,Calle de Antonio de cabezón 89,Madrid'\", \"'28033,ES,Madrid,Madrid,Calle de Caleruega 88A,Madrid'\", \"'28034,ES,Madrid,Madrid,Calle de Antonio de cabezón 85,Madrid'\", \"'28033,ES,Madrid,Madrid,Calle de Caleruega 88B,Madrid'\", \"'28033,ES,Madrid,Madrid,Calle de la Cultura 11,Madrid'\", \"'28033,ES,Madrid,Madrid,Calle de Piquer 1,Madrid'\", \"'28035,ES,Madrid,Madrid,Calle de Fermín caballero 82,Madrid'\", \"'28030,ES,Madrid,Madrid,Calle del Camino de los vinateros 161,Madrid'\", \"'28033,ES,Madrid,Madrid,Calle de Arturo soria 329,Madrid'\", \"'28029,ES,Madrid,Madrid,Paseo de la Vaguada 1,Madrid'\", \"'28027,ES,Madrid,Madrid,Calle de Belice 19,Madrid'\", \"'28027,ES,Madrid,Madrid,Calle de Belice 38,Madrid'\", \"'28027,ES,Madrid,Madrid,Calle de Belice 40,Madrid'\", \"'28027,ES,Madrid,Madrid,Calle de Federico gutiérrez 23,Madrid'\", \"'28027,ES,Madrid,Madrid,Calle de José del hierro ,Madrid'\", \"'28027,ES,Madrid,Madrid,Calle de José del hierro 48,Madrid'\", \"'28027,ES,Madrid,Madrid,Calle de la Virgen de lourdes 34,Madrid'\", \"'28027,ES,Madrid,Madrid,Calle de Ángel larra 2,Madrid'\", \"'28027,ES,Madrid,Madrid,Calle del Sol naciente 26,Madrid'\", \"'28027,ES,Madrid,Madrid,Plaza de Nueva orleans ,Madrid'\", \"'28028,ES,Madrid,Madrid,Calle de Bocángel 1,Madrid'\", \"'28029,ES,Madrid,Madrid,Anillo Distribuidor cuatro torres ,Madrid'\", \"'28029,ES,Madrid,Madrid,Avenida de Monforte de lemos 101,Madrid'\", \"'28030,ES,Madrid,Madrid, V.c. cuña de o'donnell ,Madrid'\", \"'28033,ES,Madrid,Madrid,Calle Emilio rubín 11,Madrid'\", \"'28030,ES,Madrid,Madrid,Avenida del Doctor garcía tapia 137,Madrid'\", \"'28030,ES,Madrid,Madrid,Avenida del Doctor garcía tapia 196,Madrid'\", \"'28030,ES,Madrid,Madrid,Calle de Félix rodríguez de la fuente 33,Madrid'\", \"'28030,ES,Madrid,Madrid,Calle de José bergamín 34,Madrid'\", \"'28030,ES,Madrid,Madrid,Calle del Alcalde garrido juaristi 17,Madrid'\", \"'28030,ES,Madrid,Madrid,Calle del Alcalde garrido juaristi 2,Madrid'\", \"'28030,ES,Madrid,Madrid,Calle del Camino de los vinateros 1,Madrid'\", \"'28030,ES,Madrid,Madrid,Calle del Camino de los vinateros 108,Madrid'\", \"'28030,ES,Madrid,Madrid,Calle del Camino de los vinateros 110,Madrid'\", \"'28035,ES,Madrid,Madrid,Paseo de Andrés bello ,Madrid'\", \"'28030,ES,Madrid,Madrid,Calle del Camino de los vinateros 28,Madrid'\", \"'28032,ES,Madrid,Madrid,Calle de Aquitania 9,Madrid'\", \"'28032,ES,Madrid,Madrid,Carretera de Vicálvaro a la estac. o'donnell 11,Madrid'\", \"'28035,ES,Madrid,Madrid,Calle de Valderrey 10,Madrid'\", \"'28001,ES,Madrid,Madrid,Calle de Claudio coello 51,Madrid'\", \"'28036,ES,Madrid,Madrid,Calle del General lópez pozas 2,Madrid'\", \"'28037,ES,Madrid,Madrid,Calle Albasánz 43,Madrid'\", \"'28001,ES,Madrid,Madrid,Avenida de Méjico ,Madrid'\", \"'28046,ES,Madrid,Madrid,Paseo de la Castellana 124,Madrid'\", \"'28046,ES,Madrid,Madrid,Paseo de la Castellana 29,Madrid'\", \"'28047,ES,Madrid,Madrid,Calle de Gregorio vacas 7,Madrid'\", \"'28049,ES,Madrid,Madrid,Avenida del Santuario de valverde 68,Madrid'\", \"'28049,ES,Madrid,Madrid,Avenida del Santuario de valverde 71,Madrid'\", \"'28049,ES,Madrid,Madrid,Calle Monasterio de el paular 2D,Madrid'\", \"'28049,ES,Madrid,Madrid,Calle Monasterio de las huelgas 17,Madrid'\", \"'28050,ES,Madrid,Madrid, V.c. sanchinarro ,Madrid'\", \"'28050,ES,Madrid,Madrid,Avenida de Manoteras 46,Madrid'\", \"'28050,ES,Madrid,Madrid,Avenida del Ingeniero emilio herrera 17,Madrid'\", \"'28050,ES,Madrid,Madrid,Avenida del Ingeniero emilio herrera 54,Madrid'\", \"'28050,ES,Madrid,Madrid,Calle Margarita de parma 1,Madrid'\", \"'28050,ES,Madrid,Madrid,Calle de Ana de austria ,Madrid'\", \"'28050,ES,Madrid,Madrid,Calle de Ana de austria 12,Madrid'\", \"'28050,ES,Madrid,Madrid,Calle de Castiello de jaca 14G,Madrid'\", \"'28050,ES,Madrid,Madrid,Calle de Manuel azaña ,Madrid'\", \"'28050,ES,Madrid,Madrid,Calle de Oña 105,Madrid'\", \"'28050,ES,Madrid,Madrid,Calle de la Princesa de éboli 29,Madrid'\", \"'28050,ES,Madrid,Madrid,Calle del Príncipe carlos 34,Madrid'\", \"'28050,ES,Madrid,Madrid,Carretera de Fuencarral a alcobendas 2,Madrid'\", \"'28050,ES,Madrid,Madrid,Paseo de Tierra melide 38A,Madrid'\", \"'28053,ES,Madrid,Madrid,Calle de Antonia calas 2,Madrid'\", \"'28053,ES,Madrid,Madrid,Calle de Manuel maroto 48,Madrid'\", \"'28055,ES,Madrid,Madrid,Avenida de las Fuerzas armadas ,Madrid'\", \"'28055,ES,Madrid,Madrid,Calle de Aurora redondo 4,Madrid'\", \"'28055,ES,Madrid,Madrid,Calle de Jordi solé tura 20,Madrid'\", \"'28046,ES,Madrid,Madrid,Calle de Agustín de foxá 31,Madrid'\", \"'28045,ES,Madrid,Madrid,Calle de Palos de la frontera 27,Madrid'\", \"'28045,ES,Madrid,Madrid,Calle de Méndez álvaro 32,Madrid'\", \"'28039,ES,Madrid,Madrid,Avenida del Doctor federico rubio y gali 25,Madrid'\", \"'28037,ES,Madrid,Madrid,Calle Albasánz 56,Madrid'\", \"'28037,ES,Madrid,Madrid,Calle Albasánz 58,Madrid'\", \"'28037,ES,Madrid,Madrid,Calle Cronos 65,Madrid'\", \"'28037,ES,Madrid,Madrid,Calle Santa leonor 40,Madrid'\", \"'28037,ES,Madrid,Madrid,Calle Santa leonor 48,Madrid'\", \"'28027,ES,Madrid,Madrid,Avenida de Badajoz 13,Madrid'\", \"'28037,ES,Madrid,Madrid,Calle Valentín beato 28,Madrid'\", \"'28037,ES,Madrid,Madrid,Calle de Mieres 13,Madrid'\", \"'28037,ES,Madrid,Madrid,Calle de Mieres 16,Madrid'\", \"'28038,ES,Madrid,Madrid,Avenida de la Albufera 1,Madrid'\", \"'28038,ES,Madrid,Madrid,Avenida de la Albufera 252,Madrid'\", \"'28038,ES,Madrid,Madrid,Calle de Sicilia 54,Madrid'\", \"'28039,ES,Madrid,Madrid,Calle Jerónima llorente 74,Madrid'\", \"'28045,ES,Madrid,Madrid,Calle de Bustamante 3,Madrid'\", \"'28039,ES,Madrid,Madrid,Calle de Artajona 21E,Madrid'\", \"'28039,ES,Madrid,Madrid,Calle de Ofelia nieto 2,Madrid'\", \"'28039,ES,Madrid,Madrid,Calle de los Voluntarios catalanes 55,Madrid'\", \"'28039,ES,Madrid,Madrid,Calle de los Voluntarios catalanes 66A,Madrid'\", \"'28039,ES,Madrid,Madrid,Calle del Marqués de viana 2,Madrid'\", \"'28040,ES,Madrid,Madrid,Calle de María auxiliadora 1,Madrid'\", \"'28043,ES,Madrid,Madrid,Calle de Arturo soria 155,Madrid'\", \"'28043,ES,Madrid,Madrid,Calle de Ramírez de arellano 21B,Madrid'\", \"'28043,ES,Madrid,Madrid,Calle de Treviana 1A,Madrid'\", \"'28043,ES,Madrid,Madrid,Calle de Ángel muñoz 2,Madrid'\", \"'28044,ES,Madrid,Madrid,Calle del Haya 3A,Madrid'\", \"'28045,ES,Madrid,Madrid,Calle Titán 10,Madrid'\", \"'28027,ES,Madrid,Madrid,Calle de Alcalá 550,Madrid'\", \"'28020,ES,Madrid,Madrid,Calle de Bravo murillo 181,Madrid'\", \"'28026,ES,Madrid,Madrid,Camino de Perales 236,Madrid'\", \"'28008,ES,Madrid,Madrid,Avenida de Valladolid 81,Madrid'\", \"'28007,ES,Madrid,Madrid,Avenida de la Ciudad de barcelona 83,Madrid'\", \"'28007,ES,Madrid,Madrid,Calle Marqués de lozoya 29B,Madrid'\", \"'28007,ES,Madrid,Madrid,Calle de Antonio casero 4,Madrid'\", \"'28007,ES,Madrid,Madrid,Calle de Carlos y guillermo fernández shaw 1,Madrid'\", \"'28007,ES,Madrid,Madrid,Calle de Carlos y guillermo fernández shaw 1E,Madrid'\", \"'28007,ES,Madrid,Madrid,Calle de Garibay 191,Madrid'\", \"'28007,ES,Madrid,Madrid,Calle de Piscis 2B,Madrid'\", \"'28007,ES,Madrid,Madrid,Calle de Santa sabina 3,Madrid'\", \"'28007,ES,Madrid,Madrid,Calle de Valderribas 72,Madrid'\", \"'28007,ES,Madrid,Madrid,Plaza del Conde de casal 5,Madrid'\", \"'28008,ES,Madrid,Madrid,Avenida de Valladolid 43,Madrid'\", \"'28008,ES,Madrid,Madrid,Avenida de Valladolid 47G,Madrid'\", \"'28008,ES,Madrid,Madrid,Avenida de Valladolid 79,Madrid'\", \"'28008,ES,Madrid,Madrid,Calle de Aniceto marinas 100,Madrid'\", \"'28026,ES,Madrid,Madrid,Calle de Eugenio caxes 14,Madrid'\", \"'28008,ES,Madrid,Madrid,Calle de Aniceto marinas 116,Madrid'\", \"'28008,ES,Madrid,Madrid,Calle de Felipe moratilla 6,Madrid'\", \"'28008,ES,Madrid,Madrid,Calle de Loeches 8,Madrid'\", \"'28008,ES,Madrid,Madrid,Calle de Santovenia 6,Madrid'\", \"'28008,ES,Madrid,Madrid,Calle de la Quintana 16,Madrid'\", \"'28008,ES,Madrid,Madrid,Calle de la Ribera del manzanares ,Madrid'\", \"'28008,ES,Madrid,Madrid,Calle de la Ribera del manzanares 115,Madrid'\", \"'28008,ES,Madrid,Madrid,Calle de la Ribera del manzanares 95,Madrid'\", \"'28008,ES,Madrid,Madrid,Paseo de la Florida 23,Madrid'\", \"'28008,ES,Madrid,Madrid,Paseo de la Florida 25,Madrid'\", \"'28008,ES,Madrid,Madrid,Paseo del Comandante fortea 66,Madrid'\", \"'28009,ES,Madrid,Madrid,Avenida Felipe ii 5,Madrid'\", \"'28009,ES,Madrid,Madrid,Avenida de Menéndez pelayo 63,Madrid'\", \"'28007,ES,Madrid,Madrid,Avenida de la Ciudad de barcelona 226,Madrid'\", \"'28007,ES,Madrid,Madrid,Avenida de la Ciudad de barcelona 115,Madrid'\", \"'28006,ES,Madrid,Madrid,Calle de José ortega y gasset 94,Madrid'\", \"'28006,ES,Madrid,Madrid,Calle de José ortega y gasset 85,Madrid'\", \"'28001,ES,Madrid,Madrid,Calle de Castelló 61,Madrid'\", \"'28002,ES,Madrid,Madrid,Calle del Doctor marco corera 1,Madrid'\", \"'28002,ES,Madrid,Madrid,Plaza de la Prosperidad 2,Madrid'\", \"'28002,ES,Madrid,Madrid,Plaza de la República argentina 6,Madrid'\", \"'28003,ES,Madrid,Madrid,Avenida de Filipinas 11,Madrid'\", \"'28003,ES,Madrid,Madrid,Avenida de la Reina victoria 68,Madrid'\", \"'28003,ES,Madrid,Madrid,Calle de Alonso cano 44,Madrid'\", \"'28003,ES,Madrid,Madrid,Calle de Bravo murillo 55,Madrid'\", \"'28003,ES,Madrid,Madrid,Calle de José abascal 2,Madrid'\", \"'28003,ES,Madrid,Madrid,Calle de Ríos rosas 31,Madrid'\", \"'28003,ES,Madrid,Madrid,Plaza de San juan de la cruz 11,Madrid'\", \"'28004,ES,Madrid,Madrid,Calle de Barceló 7,Madrid'\", \"'28004,ES,Madrid,Madrid,Calle de Barquillo 8,Madrid'\", \"'28004,ES,Madrid,Madrid,Calle de Hortaleza 104,Madrid'\", \"'28004,ES,Madrid,Madrid,Calle de Hortaleza 75,Madrid'\", \"'28004,ES,Madrid,Madrid,Calle de Miguel moya 6,Madrid'\", \"'28004,ES,Madrid,Madrid,Calle de Orellana 27,Madrid'\", \"'28004,ES,Madrid,Madrid,Calle de Santa brígida 25,Madrid'\", \"'28004,ES,Madrid,Madrid,Calle de la Luna 4,Madrid'\", \"'28004,ES,Madrid,Madrid,Plaza de Salesas 8,Madrid'\", \"'28005,ES,Madrid,Madrid,Calle de Juan duque 45,Madrid'\", \"'28005,ES,Madrid,Madrid,Calle de Segovia 47B,Madrid'\", \"'28005,ES,Madrid,Madrid,Calle de Toledo 118,Madrid'\", \"'28005,ES,Madrid,Madrid,Calle de la Arquitectura 11,Madrid'\", \"'28005,ES,Madrid,Madrid,Glorieta de la Puerta de toledo 6,Madrid'\", \"'28005,ES,Madrid,Madrid,Paseo Imperial 31,Madrid'\", \"'28005,ES,Madrid,Madrid,Travesía de San isidoro de sevilla 6E,Madrid'\", \"'28009,ES,Madrid,Madrid,Avenida de Menéndez pelayo 9,Madrid'\", \"'28009,ES,Madrid,Madrid,Calle de Fernán gonzález 30,Madrid'\", \"'28009,ES,Madrid,Madrid,Paseo de Fernán núñez ,Madrid'\", \"'28016,ES,Madrid,Madrid,Plaza de José maría soler 7,Madrid'\", \"'28017,ES,Madrid,Madrid,Calle Ricardo ortiz 44B,Madrid'\", \"'28017,ES,Madrid,Madrid,Calle de Cyesa 15,Madrid'\", \"'28017,ES,Madrid,Madrid,Calle de Félix rodríguez de la fuente 93,Madrid'\", \"'28017,ES,Madrid,Madrid,Calle de Gutierre de cetina 77,Madrid'\", \"'28017,ES,Madrid,Madrid,Calle de Ignacio ellacuria 3,Madrid'\", \"'28017,ES,Madrid,Madrid,Calle de Luis ruiz 58C,Madrid'\", \"'28017,ES,Madrid,Madrid,Calle de Nuestra señora del villar 85,Madrid'\", \"'28018,ES,Madrid,Madrid,Avenida de Pablo neruda 69,Madrid'\", \"'28018,ES,Madrid,Madrid,Calle de Gerardo diego 9,Madrid'\", \"'28019,ES,Madrid,Madrid, A-42 ,Madrid'\", \"'28019,ES,Madrid,Madrid,Calle Antoñita jiménez 22,Madrid'\", \"'28019,ES,Madrid,Madrid,Calle de Alejandro sánchez 87,Madrid'\", \"'28019,ES,Madrid,Madrid,Calle de Algorta 33,Madrid'\", \"'28019,ES,Madrid,Madrid,Calle de Amalarico 36,Madrid'\", \"'28019,ES,Madrid,Madrid,Calle de Baleares 33,Madrid'\", \"'28019,ES,Madrid,Madrid,Calle de Belmonte de tajo 24,Madrid'\", \"'28019,ES,Madrid,Madrid,Calle de Belmonte de tajo 26,Madrid'\", \"'28019,ES,Madrid,Madrid,Calle de Jacinto verdaguer 24,Madrid'\", \"'28019,ES,Madrid,Madrid,Calle de los Hermanos del moral 41,Madrid'\", \"'28019,ES,Madrid,Madrid,Glorieta Marqués de vadillo 7,Madrid'\", \"'28020,ES,Madrid,Madrid,Avenida Centrum ,Madrid'\", \"'28001,ES,Madrid,Madrid,Calle de Serrano 44B,Madrid'\", \"'28022,ES,Madrid,Madrid,Paseo de Ginebra 55,Madrid'\", \"'28025,ES,Madrid,Madrid,Calle de la Laguna 95,Madrid'\", \"'28026,ES,Madrid,Madrid, A-42 ,Madrid'\", \"'28026,ES,Madrid,Madrid,Calle de Antonio lópez 166,Madrid'\", \"'28026,ES,Madrid,Madrid,Calle de Antonio lópez 168,Madrid'\", \"'28017,ES,Madrid,Madrid,Avenida del Marqués de corbera 52,Madrid'\", \"'28016,ES,Madrid,Madrid,Calle de Federico salmón 3,Madrid'\", \"'28010,ES,Madrid,Madrid,Calle de Covarrubias 5,Madrid'\", \"'28016,ES,Madrid,Madrid,Calle de Federico salmón 1,Madrid'\", \"'28010,ES,Madrid,Madrid,Calle de Manuel cortina 2,Madrid'\", \"'28011,ES,Madrid,Madrid,Bulevar de la Avenida de portugal ,Madrid'\", \"'28011,ES,Madrid,Madrid,Calle de Saavedra fajardo 8,Madrid'\", \"'28011,ES,Madrid,Madrid,Calle de la Huerta de castañeda 30,Madrid'\", \"'28011,ES,Madrid,Madrid,Glorieta del Puente de segovia 3,Madrid'\", \"'28011,ES,Madrid,Madrid,Paseo de la Ermita del santo ,Madrid'\", \"'28011,ES,Madrid,Madrid,Paseo de la Ermita del santo 14,Madrid'\", \"'28011,ES,Madrid,Madrid,Paseo de la Ermita del santo 16,Madrid'\", \"'28011,ES,Madrid,Madrid,Plaza de la Puerta del ángel 3,Madrid'\", \"'28012,ES,Madrid,Madrid,Calle de Atocha 40,Madrid'\", \"'28012,ES,Madrid,Madrid,Calle de Embajadores 12,Madrid'\", \"'28012,ES,Madrid,Madrid,Plaza de Cascorro 5,Madrid'\", \"'28013,ES,Madrid,Madrid,Calle Gran vía 32B,Madrid'\", \"'28013,ES,Madrid,Madrid,Calle de Vergara 3B,Madrid'\", \"'28013,ES,Madrid,Madrid,Calle de la Virgen de los peligros 13,Madrid'\", \"'28013,ES,Madrid,Madrid,Calle del Maestro victoria 3,Madrid'\", \"'28014,ES,Madrid,Madrid,Paseo del Prado 1,Madrid'\", \"'28015,ES,Madrid,Madrid,Calle de Bravo murillo 22,Madrid'\", \"'28015,ES,Madrid,Madrid,Calle de Magallanes 42,Madrid'\", \"'28015,ES,Madrid,Madrid,Calle de San bernardo 80,Madrid'\", \"'28015,ES,Madrid,Madrid,Calle de San bernardo 87,Madrid'\", \"'28015,ES,Madrid,Madrid,Calle de San bernardo 89,Madrid'\", \"'28015,ES,Madrid,Madrid,Calle del Álamo 9,Madrid'\", \"'28016,ES,Madrid,Madrid,Avenida de Pío xii 1,Madrid'\", \"'28016,ES,Madrid,Madrid,Avenida de Pío xii 46,Madrid'\", \"'28016,ES,Madrid,Madrid,Avenida de Pío xii 7,Madrid'\", \"'28016,ES,Madrid,Madrid,Calle de Colombia 8,Madrid'\", \"'28001,ES,Madrid,Madrid,Calle de Serrano 7,Madrid'\"]\n"
     ]
    }
   ],
   "source": [
    "# Prueba\n",
    "print(f'El enunciado especifica que quiere que se devuelva un CONJUNTO, lo cual no tiene mucho sentido ya que los elementos de un objeto set se guardan aleatoriamente por lo que no se verá el orden de popularidad')\n",
    "print('\\nSiendo estrictos con la respuesta, esta es:\\n' + f'{sorted_desc_popular_unlock_stations_set}')\n",
    "print('\\nSiendo menos ortodoxos con la respuesta, las estaciones de desbloqueo más populares ordenadas de mayor a menor son:\\n' + f'{sorted_desc_popular_unlock_stations_list}')"
   ]
  },
  {
   "cell_type": "markdown",
   "id": "3cc8010182897f17",
   "metadata": {
    "collapsed": false,
    "jupyter": {
     "outputs_hidden": false
    }
   },
   "source": [
    "### C8\n",
    "\n",
    "Se quiere averiguar el  número de usos de las estaciones de desbloqueo que a lo largo del mes ha tenido un mayor número de viajes. Crear una función llamada `usage_from_most_popular_station` que calcule dicho dato. El argumento de la función es un dataframe y devuelve un entero."
   ]
  },
  {
   "cell_type": "code",
   "execution_count": 108,
   "id": "e012f942e290386",
   "metadata": {
    "collapsed": false,
    "jupyter": {
     "outputs_hidden": false
    }
   },
   "outputs": [],
   "source": [
    "# Solución:\n",
    "def usage_from_most_popular_station(df: pd.DataFrame) -> int:\n",
    "    \"\"\"\n",
    "    Función para calcular el número de viajes que ha tenido la estación de desbloqueos más poopular a lo largo de un mes\n",
    "    :param df: objeto pandas.DataFrame con los datos de uso de la EMT por mes\n",
    "    :return: entero con el número de viajes de la estación más popular\n",
    "    \"\"\"\n",
    "    df_grouped_by_station_unlock = df.groupby(['station_unlock', 'address_unlock'])\n",
    "    count_trips_by_unlock_station = df_grouped_by_station_unlock['fleet'].count()\n",
    "    sorted_count = count_trips_by_unlock_station.sort_values(ascending=False)\n",
    "    most_popular_station = sorted_count.head(1)\n",
    "\n",
    "    return most_popular_station.values[0]\n",
    "\n",
    "objeto_bici_mad_c8 = BiciMad(2, 23) # Objeto cuyo atributo data contendrá los datos de la EMT para Febrero de 2023\n",
    "objeto_bici_mad_c8.clean() # Limpiamos NaN de los datos del objeto BiciMad\n",
    "\n",
    "most_popular_station_usage =  usage_from_most_popular_station(objeto_bici_mad_c8.data)"
   ]
  },
  {
   "cell_type": "code",
   "execution_count": 109,
   "id": "9449bb4c8822ca46",
   "metadata": {
    "collapsed": false,
    "jupyter": {
     "outputs_hidden": false
    }
   },
   "outputs": [
    {
     "name": "stdout",
     "output_type": "stream",
     "text": [
      "El número de usos de la estación de desbloqueo más popular es: 2189\n"
     ]
    }
   ],
   "source": [
    "# Prueba\n",
    "print(f'El número de usos de la estación de desbloqueo más popular es: {most_popular_station_usage}')"
   ]
  }
 ],
 "metadata": {
  "kernelspec": {
   "display_name": "Python 3 (ipykernel)",
   "language": "python",
   "name": "python3"
  },
  "language_info": {
   "codemirror_mode": {
    "name": "ipython",
    "version": 3
   },
   "file_extension": ".py",
   "mimetype": "text/x-python",
   "name": "python",
   "nbconvert_exporter": "python",
   "pygments_lexer": "ipython3",
   "version": "3.11.6"
  }
 },
 "nbformat": 4,
 "nbformat_minor": 5
}
